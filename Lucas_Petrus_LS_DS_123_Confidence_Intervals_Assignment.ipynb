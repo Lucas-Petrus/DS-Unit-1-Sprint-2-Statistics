{
  "nbformat": 4,
  "nbformat_minor": 0,
  "metadata": {
    "colab": {
      "name": "Lucas_Petrus_LS_DS_123_Confidence_Intervals_Assignment.ipynb",
      "provenance": [],
      "collapsed_sections": [],
      "include_colab_link": true
    },
    "kernelspec": {
      "name": "python3",
      "display_name": "Python 3"
    }
  },
  "cells": [
    {
      "cell_type": "markdown",
      "metadata": {
        "id": "view-in-github",
        "colab_type": "text"
      },
      "source": [
        "<a href=\"https://colab.research.google.com/github/Lucas-Petrus/DS-Unit-1-Sprint-2-Statistics/blob/master/Lucas_Petrus_LS_DS_123_Confidence_Intervals_Assignment.ipynb\" target=\"_parent\"><img src=\"https://colab.research.google.com/assets/colab-badge.svg\" alt=\"Open In Colab\"/></a>"
      ]
    },
    {
      "cell_type": "markdown",
      "metadata": {
        "id": "g_c3L9CeANiJ",
        "colab_type": "text"
      },
      "source": [
        "## Confidence Intervals\n",
        "\n",
        "The following url can be used to access an abbreviated version of responses to Stack Overflow's 2018 Developer Survey. The original Survey had ~100k respondents but the data is quite dirty so I have selected a cleaner subset of it for you to use for your assignment.\n",
        "\n",
        "<https://raw.githubusercontent.com/ryanleeallred/datasets/master/bootcampers.csv>\n",
        "\n",
        "The provided dataset holds 14 columns of information about individuals who make less than 500k per year and who responded that they had: \n",
        "\n",
        "\"Participated in a full-time developer training program or bootcamp\"\n",
        "\n",
        "## Part 1 - Setting the Stage\n",
        "\n",
        "**1) Load the dataset**"
      ]
    },
    {
      "cell_type": "code",
      "metadata": {
        "id": "yXwMJQGrAIbO",
        "colab_type": "code",
        "colab": {
          "base_uri": "https://localhost:8080/",
          "height": 34
        },
        "outputId": "38287fa9-117c-46db-8002-685aabe43b83"
      },
      "source": [
        "import pandas as pd\n",
        "import numpy as np\n",
        "from scipy import stats\n",
        "import matplotlib.pyplot as plt\n",
        "\n",
        "df = pd.read_csv('https://raw.githubusercontent.com/ryanleeallred/datasets/master/bootcampers.csv')\n",
        "df.head()\n",
        "print(df.shape)\n",
        "\n"
      ],
      "execution_count": 43,
      "outputs": [
        {
          "output_type": "stream",
          "text": [
            "(2761, 15)\n"
          ],
          "name": "stdout"
        }
      ]
    },
    {
      "cell_type": "code",
      "metadata": {
        "id": "pYsFvm1dPygj",
        "colab_type": "code",
        "colab": {}
      },
      "source": [
        ""
      ],
      "execution_count": 0,
      "outputs": []
    },
    {
      "cell_type": "markdown",
      "metadata": {
        "id": "wOQ-9E8uYcni",
        "colab_type": "text"
      },
      "source": [
        "**2) Select two random samples from this dataset, one with a sample size of 20 and the other with a sample size of 200. (Use a `random_state` of `42` when selecting the samples)**"
      ]
    },
    {
      "cell_type": "code",
      "metadata": {
        "id": "m1vuFGxVQo64",
        "colab_type": "code",
        "colab": {}
      },
      "source": [
        "sample1 = df.sample(20, random_state=42)\n",
        "\n",
        "sample2 = df.sample(200, random_state=42)"
      ],
      "execution_count": 0,
      "outputs": []
    },
    {
      "cell_type": "markdown",
      "metadata": {
        "id": "y2Rz-8O-YmF9",
        "colab_type": "text"
      },
      "source": [
        "**3) Calculate and report the sample means of the `ConvertedSalary` column for both of the samples.**"
      ]
    },
    {
      "cell_type": "code",
      "metadata": {
        "id": "ti9x37XSQ_yL",
        "colab_type": "code",
        "colab": {
          "base_uri": "https://localhost:8080/",
          "height": 34
        },
        "outputId": "3e5ac16e-414b-4dda-fcb7-c950134ba2b8"
      },
      "source": [
        "sample1['ConvertedSalary'].mean()"
      ],
      "execution_count": 45,
      "outputs": [
        {
          "output_type": "execute_result",
          "data": {
            "text/plain": [
              "55752.2"
            ]
          },
          "metadata": {
            "tags": []
          },
          "execution_count": 45
        }
      ]
    },
    {
      "cell_type": "code",
      "metadata": {
        "id": "XTcGQhjvsyVA",
        "colab_type": "code",
        "colab": {
          "base_uri": "https://localhost:8080/",
          "height": 34
        },
        "outputId": "bcdc807d-43d0-4393-fd64-c2ac1ecae5d1"
      },
      "source": [
        "sample2['ConvertedSalary'].mean()"
      ],
      "execution_count": 46,
      "outputs": [
        {
          "output_type": "execute_result",
          "data": {
            "text/plain": [
              "68551.255"
            ]
          },
          "metadata": {
            "tags": []
          },
          "execution_count": 46
        }
      ]
    },
    {
      "cell_type": "markdown",
      "metadata": {
        "id": "AtGASqgxYp5t",
        "colab_type": "text"
      },
      "source": [
        "**4) Both of these sample means are estimates of an underlying population value. Which sample mean do you trust more? Why? Would a non-technical audience have any idea about which of these values is more trustworthy?**"
      ]
    },
    {
      "cell_type": "markdown",
      "metadata": {
        "id": "8oD8lp84YyvU",
        "colab_type": "text"
      },
      "source": [
        "I trust the sample mean of 200 more, the greater our sample size allows for us to obtain a smaller margin of error, therefore it is more trustworthy and reflective of the population mean (if a population mean is available). A non technical audience wouldn't have an idea about which is more trustworthy because the audience does not understand the importance of sample size in regard to M.o.E"
      ]
    },
    {
      "cell_type": "markdown",
      "metadata": {
        "id": "-2ulIAGmYudp",
        "colab_type": "text"
      },
      "source": [
        "**5) Does just the point estimate (individual value of the sample mean) indicate to you anything about how much sampling error there could be with these estimates?**"
      ]
    },
    {
      "cell_type": "markdown",
      "metadata": {
        "id": "hD5HloatYxoh",
        "colab_type": "text"
      },
      "source": [
        "the point estimate should not be relfective of error in a sample population because you are dealing with 1 specific point within a sample and there is a chance that single point of information could vary greatly from the population mean leaving you with an incorrect interpretation of the data set"
      ]
    },
    {
      "cell_type": "markdown",
      "metadata": {
        "id": "SpqgKQfTYvF0",
        "colab_type": "text"
      },
      "source": [
        "**6) What strategies could we use when reporting these numbers to not only report our estimates but also to give non-technical readers an idea about how far off our estimates might be due to sampling error?**\n",
        "\n"
      ]
    },
    {
      "cell_type": "markdown",
      "metadata": {
        "id": "h7N1WnTTYyD7",
        "colab_type": "text"
      },
      "source": [
        "An error bar is one way we could visual represent it to those who are unfamiliar with who statistics work. The error bar can compare two samples and show how much wider a range sits compared to another one"
      ]
    },
    {
      "cell_type": "markdown",
      "metadata": {
        "id": "9tIHBlM_SyGR",
        "colab_type": "text"
      },
      "source": [
        "## Part 2 - Reporting CIs / MOEs along with our point estimates for more context.\n",
        "\n",
        "**1) Calculate and report a 95% confidence interval around both of the sample means from part 1.**\n",
        "\n"
      ]
    },
    {
      "cell_type": "code",
      "metadata": {
        "id": "hfCO0gHEUOrE",
        "colab_type": "code",
        "colab": {}
      },
      "source": [
        "def confidence_interval(data, confidence=.95):\n",
        "  sample = np.array(data)\n",
        "  x_bar = sample.mean()\n",
        "  s = np.std(sample, ddof=1)\n",
        "  n = len(sample)\n",
        "  t = stats.t.ppf((1+confidence) / 2, n-1)\n",
        "  std_err = s / np.sqrt(n)\n",
        "  moe = std_err * t\n",
        "  upper = x_bar + moe\n",
        "  lower = x_bar - moe\n",
        "\n",
        "  return (lower, x_bar, upper)"
      ],
      "execution_count": 0,
      "outputs": []
    },
    {
      "cell_type": "code",
      "metadata": {
        "id": "r5OqA6GYUbUZ",
        "colab_type": "code",
        "colab": {
          "base_uri": "https://localhost:8080/",
          "height": 34
        },
        "outputId": "08988867-68e1-4fbf-81e4-aeed9fbb224e"
      },
      "source": [
        "confidence_interval(sample1['ConvertedSalary'])"
      ],
      "execution_count": 48,
      "outputs": [
        {
          "output_type": "execute_result",
          "data": {
            "text/plain": [
              "(35805.10309625536, 55752.2, 75699.29690374463)"
            ]
          },
          "metadata": {
            "tags": []
          },
          "execution_count": 48
        }
      ]
    },
    {
      "cell_type": "code",
      "metadata": {
        "id": "kvtuhUzzUlqH",
        "colab_type": "code",
        "colab": {
          "base_uri": "https://localhost:8080/",
          "height": 34
        },
        "outputId": "a1c02f06-0523-47ff-f0bb-3a154e8caaf7"
      },
      "source": [
        "confidence_interval(sample2['ConvertedSalary'])"
      ],
      "execution_count": 49,
      "outputs": [
        {
          "output_type": "execute_result",
          "data": {
            "text/plain": [
              "(60593.058804479086, 68551.255, 76509.45119552092)"
            ]
          },
          "metadata": {
            "tags": []
          },
          "execution_count": 49
        }
      ]
    },
    {
      "cell_type": "markdown",
      "metadata": {
        "id": "vdiW7DHRZwK-",
        "colab_type": "text"
      },
      "source": [
        "**2) Which confidence interval is wider and why?**"
      ]
    },
    {
      "cell_type": "markdown",
      "metadata": {
        "id": "p5KGlyvYZ1Qq",
        "colab_type": "text"
      },
      "source": [
        "The confidence interval of the first sample is much wider. Due to its lower sample size the standard error of our estimate is much larger causing the potential distribution of sample means to be much more spread out. A confidence interval catches 95% of this theoretical distriution of sample means so if our standard error is larger, our confidence interval will be wider as well."
      ]
    },
    {
      "cell_type": "markdown",
      "metadata": {
        "id": "6N33K4NvZ13H",
        "colab_type": "text"
      },
      "source": [
        "**3) Report the mean and the margin of error for both of the sample means. What does the Margin of Error Represent?**"
      ]
    },
    {
      "cell_type": "code",
      "metadata": {
        "id": "MfMIBftMU_rz",
        "colab_type": "code",
        "colab": {
          "base_uri": "https://localhost:8080/",
          "height": 34
        },
        "outputId": "d5082e3e-8070-4d23-f593-84b3386271af"
      },
      "source": [
        "CI1 = confidence_interval(sample1['ConvertedSalary'])\n",
        "CI1"
      ],
      "execution_count": 50,
      "outputs": [
        {
          "output_type": "execute_result",
          "data": {
            "text/plain": [
              "(35805.10309625536, 55752.2, 75699.29690374463)"
            ]
          },
          "metadata": {
            "tags": []
          },
          "execution_count": 50
        }
      ]
    },
    {
      "cell_type": "code",
      "metadata": {
        "id": "DOJ41W1tVWa6",
        "colab_type": "code",
        "colab": {
          "base_uri": "https://localhost:8080/",
          "height": 34
        },
        "outputId": "5e09d54c-4c26-4380-ad97-83f87d834e18"
      },
      "source": [
        "CI2 = confidence_interval(sample2['ConvertedSalary'])\n",
        "CI2"
      ],
      "execution_count": 51,
      "outputs": [
        {
          "output_type": "execute_result",
          "data": {
            "text/plain": [
              "(60593.058804479086, 68551.255, 76509.45119552092)"
            ]
          },
          "metadata": {
            "tags": []
          },
          "execution_count": 51
        }
      ]
    },
    {
      "cell_type": "code",
      "metadata": {
        "id": "K0Pmx_IP12O9",
        "colab_type": "code",
        "colab": {
          "base_uri": "https://localhost:8080/",
          "height": 51
        },
        "outputId": "e5ea6577-e9e5-4301-ff7b-021a0cb49023"
      },
      "source": [
        "print(\"Mean:\", CI1[1])\n",
        "print(\"MOE:\", CI1[2]-CI1[1])"
      ],
      "execution_count": 52,
      "outputs": [
        {
          "output_type": "stream",
          "text": [
            "Mean: 55752.2\n",
            "MOE: 19947.096903744634\n"
          ],
          "name": "stdout"
        }
      ]
    },
    {
      "cell_type": "code",
      "metadata": {
        "id": "OsZGyTcI2PWS",
        "colab_type": "code",
        "colab": {
          "base_uri": "https://localhost:8080/",
          "height": 51
        },
        "outputId": "7e411d40-4206-4566-f09d-27104f5a6c4a"
      },
      "source": [
        "print(\"Mean:\", CI2[1])\n",
        "print(\"MOE:\", CI2[2]-CI2[1])"
      ],
      "execution_count": 53,
      "outputs": [
        {
          "output_type": "stream",
          "text": [
            "Mean: 68551.255\n",
            "MOE: 7958.196195520912\n"
          ],
          "name": "stdout"
        }
      ]
    },
    {
      "cell_type": "markdown",
      "metadata": {
        "id": "_7NuYtHfaQav",
        "colab_type": "text"
      },
      "source": [
        "The margin of error gives an idea of how far off our estimates might be (with 95% confidence). We're trying to supply a plausible range for our parameter of interest (the true average salary of bootcamp grads)."
      ]
    },
    {
      "cell_type": "markdown",
      "metadata": {
        "id": "zkg9EW9KTgGv",
        "colab_type": "text"
      },
      "source": [
        "## Part 3 - Communicate the Precision of Sample Estimates Graphically\n",
        "\n",
        "**1) Create a plot using `plt.errorbar` that compares both of the confidence intervals.** "
      ]
    },
    {
      "cell_type": "code",
      "metadata": {
        "id": "2QOQGVfsVfFZ",
        "colab_type": "code",
        "colab": {
          "base_uri": "https://localhost:8080/",
          "height": 296
        },
        "outputId": "201f37bf-4890-4ad3-8f39-0134ec75be57"
      },
      "source": [
        "plt.errorbar(x=0, y=CI1[1], yerr=(CI1[2]-CI1[1]), fmt='o')\n",
        "plt.errorbar(x=1, y=CI2[1], yerr=(CI2[2]-CI2[1]), fmt='o')\n",
        "plt.title('95% Confidence Interval for \\n average Converted Salaries of Census Responders')\n",
        "plt.xticks(ticks=[0,1], labels=['sample 1', 'sample 2'])\n",
        "plt.xlim(-.5, 1.5)\n",
        "plt.show()"
      ],
      "execution_count": 54,
      "outputs": [
        {
          "output_type": "display_data",
          "data": {
            "image/png": "[encoded data removed]",
            "text/plain": [
              "<Figure size 432x288 with 1 Axes>"
            ]
          },
          "metadata": {
            "tags": [],
            "needs_background": "light"
          }
        }
      ]
    },
    {
      "cell_type": "markdown",
      "metadata": {
        "id": "HsTtONTNawFi",
        "colab_type": "text"
      },
      "source": [
        "**2) Create a plot using `plt.bar` that compares both of the confidence intervals.**"
      ]
    },
    {
      "cell_type": "code",
      "metadata": {
        "id": "UE1fxaoKW1Xg",
        "colab_type": "code",
        "colab": {
          "base_uri": "https://localhost:8080/",
          "height": 296
        },
        "outputId": "fe19b290-dd90-41bc-fb94-f584c3593c17"
      },
      "source": [
        "plt.bar(x=0, height=CI1[1], yerr=(CI1[2]-CI1[1]))\n",
        "plt.bar(x=1, height=CI2[1], yerr=(CI2[2]-CI2[1]))\n",
        "plt.title('95% Confidence Interval for \\n average Converted Salaries of Census Responders')\n",
        "plt.xticks(ticks=[0,1], labels=['sample 1', 'sample 2'])\n",
        "plt.xlim(-.5, 1.5)\n",
        "plt.show()"
      ],
      "execution_count": 55,
      "outputs": [
        {
          "output_type": "display_data",
          "data": {
            "image/png": "[encoded data removed]",
            "text/plain": [
              "<Figure size 432x288 with 1 Axes>"
            ]
          },
          "metadata": {
            "tags": [],
            "needs_background": "light"
          }
        }
      ]
    },
    {
      "cell_type": "markdown",
      "metadata": {
        "id": "ZGCzS-BFctob",
        "colab_type": "text"
      },
      "source": [
        "## Part 4 - Check for Understanding\n",
        "\n",
        "\n",
        "\n",
        "\n",
        "\n"
      ]
    },
    {
      "cell_type": "markdown",
      "metadata": {
        "id": "E181afPXezJ9",
        "colab_type": "text"
      },
      "source": [
        "**Calculate a Confidence Interval using the entire dataset. How precise do our estimates get?**"
      ]
    },
    {
      "cell_type": "code",
      "metadata": {
        "id": "3puy99D6esLn",
        "colab_type": "code",
        "colab": {
          "base_uri": "https://localhost:8080/",
          "height": 983
        },
        "outputId": "152c94b7-8983-4d02-eaaf-7acac21dfcea"
      },
      "source": [
        "sample3 = df.sample(2671, random_state=42)\n",
        "sample3"
      ],
      "execution_count": 32,
      "outputs": [
        {
          "output_type": "execute_result",
          "data": {
            "text/html": [
              "<div>\n",
              "<style scoped>\n",
              "    .dataframe tbody tr th:only-of-type {\n",
              "        vertical-align: middle;\n",
              "    }\n",
              "\n",
              "    .dataframe tbody tr th {\n",
              "        vertical-align: top;\n",
              "    }\n",
              "\n",
              "    .dataframe thead th {\n",
              "        text-align: right;\n",
              "    }\n",
              "</style>\n",
              "<table border=\"1\" class=\"dataframe\">\n",
              "  <thead>\n",
              "    <tr style=\"text-align: right;\">\n",
              "      <th></th>\n",
              "      <th>Unnamed: 0</th>\n",
              "      <th>Student</th>\n",
              "      <th>Employment</th>\n",
              "      <th>UndergradMajor</th>\n",
              "      <th>DevType</th>\n",
              "      <th>YearsCoding</th>\n",
              "      <th>YearsCodingProf</th>\n",
              "      <th>ConvertedSalary</th>\n",
              "      <th>EducationTypes</th>\n",
              "      <th>SelfTaughtTypes</th>\n",
              "      <th>TimeAfterBootcamp</th>\n",
              "      <th>LanguageWorkedWith</th>\n",
              "      <th>Gender</th>\n",
              "      <th>Age</th>\n",
              "      <th>RaceEthnicity</th>\n",
              "    </tr>\n",
              "  </thead>\n",
              "  <tbody>\n",
              "    <tr>\n",
              "      <th>367</th>\n",
              "      <td>11175</td>\n",
              "      <td>No</td>\n",
              "      <td>Employed full-time</td>\n",
              "      <td>Computer science, computer engineering, or sof...</td>\n",
              "      <td>Back-end developer;Data or business analyst;Da...</td>\n",
              "      <td>0-2 years</td>\n",
              "      <td>0-2 years</td>\n",
              "      <td>74500.0</td>\n",
              "      <td>Taken an online course in programming or softw...</td>\n",
              "      <td>Questions &amp; answers on Stack Overflow;Online d...</td>\n",
              "      <td>I already had a full-time job as a developer w...</td>\n",
              "      <td>JavaScript;PHP;Python;SQL;HTML;CSS;Bash/Shell</td>\n",
              "      <td>Male</td>\n",
              "      <td>25 - 34 years old</td>\n",
              "      <td>Native American, Pacific Islander, or Indigeno...</td>\n",
              "    </tr>\n",
              "    <tr>\n",
              "      <th>2759</th>\n",
              "      <td>87070</td>\n",
              "      <td>No</td>\n",
              "      <td>Not employed, but looking for work</td>\n",
              "      <td>A health science (ex. nursing, pharmacy, radio...</td>\n",
              "      <td>Mobile developer</td>\n",
              "      <td>0-2 years</td>\n",
              "      <td>0-2 years</td>\n",
              "      <td>60000.0</td>\n",
              "      <td>Taken an online course in programming or softw...</td>\n",
              "      <td>The official documentation and/or standards fo...</td>\n",
              "      <td>Six months to a year</td>\n",
              "      <td>C;C#;Objective-C;Swift</td>\n",
              "      <td>Male</td>\n",
              "      <td>18 - 24 years old</td>\n",
              "      <td>Black or of African descent</td>\n",
              "    </tr>\n",
              "    <tr>\n",
              "      <th>1330</th>\n",
              "      <td>39067</td>\n",
              "      <td>No</td>\n",
              "      <td>Employed full-time</td>\n",
              "      <td>Information systems, information technology, o...</td>\n",
              "      <td>Back-end developer;DevOps specialist;Front-end...</td>\n",
              "      <td>3-5 years</td>\n",
              "      <td>3-5 years</td>\n",
              "      <td>86120.0</td>\n",
              "      <td>Taken an online course in programming or softw...</td>\n",
              "      <td>The official documentation and/or standards fo...</td>\n",
              "      <td>I already had a full-time job as a developer w...</td>\n",
              "      <td>C#;Java;JavaScript;SQL;TypeScript;HTML;CSS</td>\n",
              "      <td>Male</td>\n",
              "      <td>25 - 34 years old</td>\n",
              "      <td>White or of European descent</td>\n",
              "    </tr>\n",
              "    <tr>\n",
              "      <th>2750</th>\n",
              "      <td>86288</td>\n",
              "      <td>No</td>\n",
              "      <td>Not employed, but looking for work</td>\n",
              "      <td>A social science (ex. anthropology, psychology...</td>\n",
              "      <td>Front-end developer;Full-stack developer</td>\n",
              "      <td>3-5 years</td>\n",
              "      <td>3-5 years</td>\n",
              "      <td>60000.0</td>\n",
              "      <td>Taken an online course in programming or softw...</td>\n",
              "      <td>The official documentation and/or standards fo...</td>\n",
              "      <td>Longer than a year</td>\n",
              "      <td>CoffeeScript;JavaScript;PHP;Python;SQL;TypeScr...</td>\n",
              "      <td>Male</td>\n",
              "      <td>25 - 34 years old</td>\n",
              "      <td>White or of European descent</td>\n",
              "    </tr>\n",
              "    <tr>\n",
              "      <th>521</th>\n",
              "      <td>15370</td>\n",
              "      <td>No</td>\n",
              "      <td>Employed full-time</td>\n",
              "      <td>Computer science, computer engineering, or sof...</td>\n",
              "      <td>Back-end developer;Front-end developer;Full-st...</td>\n",
              "      <td>9-11 years</td>\n",
              "      <td>6-8 years</td>\n",
              "      <td>25047.0</td>\n",
              "      <td>Taken an online course in programming or softw...</td>\n",
              "      <td>The official documentation and/or standards fo...</td>\n",
              "      <td>Four to six months</td>\n",
              "      <td>C#;Java;JavaScript;PHP;SQL;HTML;CSS</td>\n",
              "      <td>Male</td>\n",
              "      <td>25 - 34 years old</td>\n",
              "      <td>East Asian;Middle Eastern</td>\n",
              "    </tr>\n",
              "    <tr>\n",
              "      <th>...</th>\n",
              "      <td>...</td>\n",
              "      <td>...</td>\n",
              "      <td>...</td>\n",
              "      <td>...</td>\n",
              "      <td>...</td>\n",
              "      <td>...</td>\n",
              "      <td>...</td>\n",
              "      <td>...</td>\n",
              "      <td>...</td>\n",
              "      <td>...</td>\n",
              "      <td>...</td>\n",
              "      <td>...</td>\n",
              "      <td>...</td>\n",
              "      <td>...</td>\n",
              "      <td>...</td>\n",
              "    </tr>\n",
              "    <tr>\n",
              "      <th>391</th>\n",
              "      <td>11780</td>\n",
              "      <td>No</td>\n",
              "      <td>Employed full-time</td>\n",
              "      <td>Computer science, computer engineering, or sof...</td>\n",
              "      <td>Back-end developer;Desktop or enterprise appli...</td>\n",
              "      <td>6-8 years</td>\n",
              "      <td>3-5 years</td>\n",
              "      <td>3912.0</td>\n",
              "      <td>Participated in a full-time developer training...</td>\n",
              "      <td>The official documentation and/or standards fo...</td>\n",
              "      <td>Immediately after graduating</td>\n",
              "      <td>C;C++;C#;Java;JavaScript;SQL;VBA;VB.NET;Visual...</td>\n",
              "      <td>Male</td>\n",
              "      <td>25 - 34 years old</td>\n",
              "      <td>South Asian</td>\n",
              "    </tr>\n",
              "    <tr>\n",
              "      <th>2640</th>\n",
              "      <td>79052</td>\n",
              "      <td>No</td>\n",
              "      <td>Independent contractor, freelancer, or self-em...</td>\n",
              "      <td>A business discipline (ex. accounting, finance...</td>\n",
              "      <td>Designer;Front-end developer;Full-stack develo...</td>\n",
              "      <td>30 or more years</td>\n",
              "      <td>30 or more years</td>\n",
              "      <td>312808.0</td>\n",
              "      <td>Taken an online course in programming or softw...</td>\n",
              "      <td>The official documentation and/or standards fo...</td>\n",
              "      <td>I already had a full-time job as a developer w...</td>\n",
              "      <td>Go;JavaScript;Python;Swift;TypeScript;HTML;CSS</td>\n",
              "      <td>Male</td>\n",
              "      <td>45 - 54 years old</td>\n",
              "      <td>White or of European descent</td>\n",
              "    </tr>\n",
              "    <tr>\n",
              "      <th>1522</th>\n",
              "      <td>45519</td>\n",
              "      <td>No</td>\n",
              "      <td>Employed full-time</td>\n",
              "      <td>Computer science, computer engineering, or sof...</td>\n",
              "      <td>Back-end developer;Front-end developer;Game or...</td>\n",
              "      <td>12-14 years</td>\n",
              "      <td>9-11 years</td>\n",
              "      <td>52089.0</td>\n",
              "      <td>Participated in a full-time developer training...</td>\n",
              "      <td>The official documentation and/or standards fo...</td>\n",
              "      <td>I already had a full-time job as a developer w...</td>\n",
              "      <td>C;C++;C#;Objective-C;SQL;Swift;Bash/Shell</td>\n",
              "      <td>Male</td>\n",
              "      <td>25 - 34 years old</td>\n",
              "      <td>White or of European descent</td>\n",
              "    </tr>\n",
              "    <tr>\n",
              "      <th>1162</th>\n",
              "      <td>33830</td>\n",
              "      <td>Yes, part-time</td>\n",
              "      <td>Employed full-time</td>\n",
              "      <td>Another engineering discipline (ex. civil, ele...</td>\n",
              "      <td>Back-end developer;Data scientist or machine l...</td>\n",
              "      <td>9-11 years</td>\n",
              "      <td>3-5 years</td>\n",
              "      <td>51408.0</td>\n",
              "      <td>Taken an online course in programming or softw...</td>\n",
              "      <td>The official documentation and/or standards fo...</td>\n",
              "      <td>One to three months</td>\n",
              "      <td>C++;Haskell;Java;Matlab;Python;Bash/Shell</td>\n",
              "      <td>Male</td>\n",
              "      <td>25 - 34 years old</td>\n",
              "      <td>White or of European descent</td>\n",
              "    </tr>\n",
              "    <tr>\n",
              "      <th>1495</th>\n",
              "      <td>44701</td>\n",
              "      <td>No</td>\n",
              "      <td>Employed full-time</td>\n",
              "      <td>Another engineering discipline (ex. civil, ele...</td>\n",
              "      <td>Back-end developer;Full-stack developer</td>\n",
              "      <td>3-5 years</td>\n",
              "      <td>3-5 years</td>\n",
              "      <td>27024.0</td>\n",
              "      <td>Participated in a full-time developer training...</td>\n",
              "      <td>The official documentation and/or standards fo...</td>\n",
              "      <td>Six months to a year</td>\n",
              "      <td>Assembly;C;C#;CoffeeScript;JavaScript;PHP;Ruby...</td>\n",
              "      <td>Male</td>\n",
              "      <td>25 - 34 years old</td>\n",
              "      <td>White or of European descent</td>\n",
              "    </tr>\n",
              "  </tbody>\n",
              "</table>\n",
              "<p>2671 rows × 15 columns</p>\n",
              "</div>"
            ],
            "text/plain": [
              "      Unnamed: 0  ...                                      RaceEthnicity\n",
              "367        11175  ...  Native American, Pacific Islander, or Indigeno...\n",
              "2759       87070  ...                        Black or of African descent\n",
              "1330       39067  ...                       White or of European descent\n",
              "2750       86288  ...                       White or of European descent\n",
              "521        15370  ...                          East Asian;Middle Eastern\n",
              "...          ...  ...                                                ...\n",
              "391        11780  ...                                        South Asian\n",
              "2640       79052  ...                       White or of European descent\n",
              "1522       45519  ...                       White or of European descent\n",
              "1162       33830  ...                       White or of European descent\n",
              "1495       44701  ...                       White or of European descent\n",
              "\n",
              "[2671 rows x 15 columns]"
            ]
          },
          "metadata": {
            "tags": []
          },
          "execution_count": 32
        }
      ]
    },
    {
      "cell_type": "code",
      "metadata": {
        "id": "2DfFzaB28tR_",
        "colab_type": "code",
        "colab": {
          "base_uri": "https://localhost:8080/",
          "height": 34
        },
        "outputId": "4efba87c-2026-46df-de81-5ee2dae70844"
      },
      "source": [
        "sample1['ConvertedSalary'].mean()"
      ],
      "execution_count": 37,
      "outputs": [
        {
          "output_type": "execute_result",
          "data": {
            "text/plain": [
              "55752.2"
            ]
          },
          "metadata": {
            "tags": []
          },
          "execution_count": 37
        }
      ]
    },
    {
      "cell_type": "code",
      "metadata": {
        "id": "oB_Y8UBB8z94",
        "colab_type": "code",
        "colab": {
          "base_uri": "https://localhost:8080/",
          "height": 34
        },
        "outputId": "7d30e5f7-315f-4029-ed1f-1c4f7925207c"
      },
      "source": [
        "CI3 = confidence_interval(sample3['ConvertedSalary'])\n",
        "CI3"
      ],
      "execution_count": 39,
      "outputs": [
        {
          "output_type": "execute_result",
          "data": {
            "text/plain": [
              "(71331.59732637726, 73530.97416697866, 75730.35100758006)"
            ]
          },
          "metadata": {
            "tags": []
          },
          "execution_count": 39
        }
      ]
    },
    {
      "cell_type": "code",
      "metadata": {
        "id": "AShTS9NC9IyF",
        "colab_type": "code",
        "colab": {}
      },
      "source": [
        "##Our confidence interval here show the most precise data with variances of roughly 2,000\n",
        "#prior to this the closest we had was roughly an 8,000 differential"
      ],
      "execution_count": 0,
      "outputs": []
    },
    {
      "cell_type": "markdown",
      "metadata": {
        "id": "wbA0inEKexdW",
        "colab_type": "text"
      },
      "source": [
        "**What does \"precision\" mean in the context of statistical estimates and how is that different from \"accuracy?\"**"
      ]
    },
    {
      "cell_type": "markdown",
      "metadata": {
        "id": "Btl5phUUd6L4",
        "colab_type": "text"
      },
      "source": [
        "Accuracy is a measure of statistical bias while precision is the measure of statistical variability. Accuracy focuses on systematic errors, i.e. the errors caused by the problem in the instrument. As against this, precision is concerned with random error, which occurs periodically with no recognisable pattern."
      ]
    },
    {
      "cell_type": "markdown",
      "metadata": {
        "id": "4F-4ux7sd5pL",
        "colab_type": "text"
      },
      "source": [
        "**It is very common to misunderstand what is captured by a 95% confidence interval. What is the correct interpretation? ([Hint](https://www.statisticssolutions.com/misconceptions-about-confidence-intervals/))**"
      ]
    },
    {
      "cell_type": "markdown",
      "metadata": {
        "id": "bSU07naHd6li",
        "colab_type": "text"
      },
      "source": [
        "A 95% level of confidence means that 95% of the confidence intervals calculated from these random samples will contain the true population mean"
      ]
    },
    {
      "cell_type": "markdown",
      "metadata": {
        "id": "cvtnsGLJa4bW",
        "colab_type": "text"
      },
      "source": [
        "# Stretch Goals:\n",
        "\n",
        "1) Study the relationship between t-tests and confidence intervals.\n",
        " - Find a sample mean that we have worked with and construct a 95% confidence interval around it. (find the lower and upper bounds)\n",
        " - Run a 1-sample t-test with the null hypothesis value being just barely **outside** of the confidence interval. What is the p-value?\n",
        " - Run a 1-sample t-test with the null hypothesis value being just barely **inside** of the confidence interval. What is the p-value?\n",
        "\n",
        "  What does it mean when we say that the boundaries of the confidence interval are the boundaries of statistical significance in a 1-sample t-test?\n",
        "\n",
        "\n",
        "2) Go back to our [congressional voting dataset](https://archive.ics.uci.edu/ml/datasets/Congressional+Voting+Records) and build confidence intervals around the means of all of the issues for a single party. Compare all of those confidence intervals graphically on a single graph. \n",
        "\n",
        "3) Dive deeper into the [2018 Stack Overflow Survey](https://www.kaggle.com/stackoverflow/stack-overflow-2018-developer-survey) results to see what cool things you can find."
      ]
    },
    {
      "cell_type": "code",
      "metadata": {
        "id": "ogfE99CNCMA9",
        "colab_type": "code",
        "colab": {
          "base_uri": "https://localhost:8080/",
          "height": 34
        },
        "outputId": "b070c9d7-4854-45f9-8ddd-df5c4c3e4651"
      },
      "source": [
        "sample4 = df.sample(500, random_state=42)\n",
        "\n",
        "confidence_interval(sample4['ConvertedSalary'])"
      ],
      "execution_count": 57,
      "outputs": [
        {
          "output_type": "execute_result",
          "data": {
            "text/plain": [
              "(69468.34501487605, 75109.124, 80749.90298512395)"
            ]
          },
          "metadata": {
            "tags": []
          },
          "execution_count": 57
        }
      ]
    },
    {
      "cell_type": "code",
      "metadata": {
        "id": "ExxUCWn_DFCW",
        "colab_type": "code",
        "colab": {
          "base_uri": "https://localhost:8080/",
          "height": 34
        },
        "outputId": "ba0db307-4fe8-476f-952e-90789786bfd7"
      },
      "source": [
        "stats.ttest_1samp(sample4['ConvertedSalary'], 80748)"
      ],
      "execution_count": 66,
      "outputs": [
        {
          "output_type": "execute_result",
          "data": {
            "text/plain": [
              "Ttest_1sampResult(statistic=-1.9640665657265641, pvalue=0.0500770426948513)"
            ]
          },
          "metadata": {
            "tags": []
          },
          "execution_count": 66
        }
      ]
    },
    {
      "cell_type": "code",
      "metadata": {
        "id": "QzaAxDRXD_Ap",
        "colab_type": "code",
        "colab": {
          "base_uri": "https://localhost:8080/",
          "height": 34
        },
        "outputId": "4d455e8f-82a5-43a0-d358-c57369500961"
      },
      "source": [
        "stats.ttest_1samp(sample4['ConvertedSalary'], 80750)"
      ],
      "execution_count": 67,
      "outputs": [
        {
          "output_type": "execute_result",
          "data": {
            "text/plain": [
              "Ttest_1sampResult(statistic=-1.9647631820613536, pvalue=0.049996075006924864)"
            ]
          },
          "metadata": {
            "tags": []
          },
          "execution_count": 67
        }
      ]
    },
    {
      "cell_type": "code",
      "metadata": {
        "id": "2vQJxjd7EbtK",
        "colab_type": "code",
        "colab": {}
      },
      "source": [
        "'it means that anything that falls outside of those ranges alters the probability of our null hypothesis failing to reject or being rejectable'"
      ],
      "execution_count": 0,
      "outputs": []
    },
    {
      "cell_type": "code",
      "metadata": {
        "id": "Pg6-Ix0YBfYO",
        "colab_type": "code",
        "colab": {
          "base_uri": "https://localhost:8080/",
          "height": 204
        },
        "outputId": "e78da5fd-48e6-4b18-9414-e0ddbb72f9fd"
      },
      "source": [
        "!wget https://archive.ics.uci.edu/ml/machine-learning-databases/voting-records/house-votes-84.data"
      ],
      "execution_count": 40,
      "outputs": [
        {
          "output_type": "stream",
          "text": [
            "--2020-06-10 20:57:30--  https://archive.ics.uci.edu/ml/machine-learning-databases/voting-records/house-votes-84.data\n",
            "Resolving archive.ics.uci.edu (archive.ics.uci.edu)... 128.195.10.252\n",
            "Connecting to archive.ics.uci.edu (archive.ics.uci.edu)|128.195.10.252|:443... connected.\n",
            "HTTP request sent, awaiting response... 200 OK\n",
            "Length: 18171 (18K) [application/x-httpd-php]\n",
            "Saving to: ‘house-votes-84.data’\n",
            "\n",
            "house-votes-84.data 100%[===================>]  17.75K  --.-KB/s    in 0.06s   \n",
            "\n",
            "2020-06-10 20:57:30 (286 KB/s) - ‘house-votes-84.data’ saved [18171/18171]\n",
            "\n"
          ],
          "name": "stdout"
        }
      ]
    },
    {
      "cell_type": "code",
      "metadata": {
        "id": "Ekb7ckJMBhok",
        "colab_type": "code",
        "colab": {
          "base_uri": "https://localhost:8080/",
          "height": 258
        },
        "outputId": "b03d086a-2ffb-4ea7-a1fe-00416cc3ed70"
      },
      "source": [
        "column_headers = ['party','handicapped-infants','water-project',\n",
        "                  'budget','physician-fee-freeze', 'el-salvador-aid',\n",
        "                  'religious-groups','anti-satellite-ban',\n",
        "                  'aid-to-contras','mx-missile','immigration',\n",
        "                  'synfuels', 'education', 'right-to-sue','crime','duty-free',\n",
        "                  'south-africa']\n",
        "\n",
        "df = pd.read_csv('house-votes-84.data', names=column_headers)\n",
        "df = df.replace({'?':np.NaN, 'y':1,'n':0}).dropna()\n",
        "\n",
        "df.head()"
      ],
      "execution_count": 75,
      "outputs": [
        {
          "output_type": "execute_result",
          "data": {
            "text/html": [
              "<div>\n",
              "<style scoped>\n",
              "    .dataframe tbody tr th:only-of-type {\n",
              "        vertical-align: middle;\n",
              "    }\n",
              "\n",
              "    .dataframe tbody tr th {\n",
              "        vertical-align: top;\n",
              "    }\n",
              "\n",
              "    .dataframe thead th {\n",
              "        text-align: right;\n",
              "    }\n",
              "</style>\n",
              "<table border=\"1\" class=\"dataframe\">\n",
              "  <thead>\n",
              "    <tr style=\"text-align: right;\">\n",
              "      <th></th>\n",
              "      <th>party</th>\n",
              "      <th>handicapped-infants</th>\n",
              "      <th>water-project</th>\n",
              "      <th>budget</th>\n",
              "      <th>physician-fee-freeze</th>\n",
              "      <th>el-salvador-aid</th>\n",
              "      <th>religious-groups</th>\n",
              "      <th>anti-satellite-ban</th>\n",
              "      <th>aid-to-contras</th>\n",
              "      <th>mx-missile</th>\n",
              "      <th>immigration</th>\n",
              "      <th>synfuels</th>\n",
              "      <th>education</th>\n",
              "      <th>right-to-sue</th>\n",
              "      <th>crime</th>\n",
              "      <th>duty-free</th>\n",
              "      <th>south-africa</th>\n",
              "    </tr>\n",
              "  </thead>\n",
              "  <tbody>\n",
              "    <tr>\n",
              "      <th>5</th>\n",
              "      <td>democrat</td>\n",
              "      <td>0.0</td>\n",
              "      <td>1.0</td>\n",
              "      <td>1.0</td>\n",
              "      <td>0.0</td>\n",
              "      <td>1.0</td>\n",
              "      <td>1.0</td>\n",
              "      <td>0.0</td>\n",
              "      <td>0.0</td>\n",
              "      <td>0.0</td>\n",
              "      <td>0.0</td>\n",
              "      <td>0.0</td>\n",
              "      <td>0.0</td>\n",
              "      <td>1.0</td>\n",
              "      <td>1.0</td>\n",
              "      <td>1.0</td>\n",
              "      <td>1.0</td>\n",
              "    </tr>\n",
              "    <tr>\n",
              "      <th>8</th>\n",
              "      <td>republican</td>\n",
              "      <td>0.0</td>\n",
              "      <td>1.0</td>\n",
              "      <td>0.0</td>\n",
              "      <td>1.0</td>\n",
              "      <td>1.0</td>\n",
              "      <td>1.0</td>\n",
              "      <td>0.0</td>\n",
              "      <td>0.0</td>\n",
              "      <td>0.0</td>\n",
              "      <td>0.0</td>\n",
              "      <td>0.0</td>\n",
              "      <td>1.0</td>\n",
              "      <td>1.0</td>\n",
              "      <td>1.0</td>\n",
              "      <td>0.0</td>\n",
              "      <td>1.0</td>\n",
              "    </tr>\n",
              "    <tr>\n",
              "      <th>19</th>\n",
              "      <td>democrat</td>\n",
              "      <td>1.0</td>\n",
              "      <td>1.0</td>\n",
              "      <td>1.0</td>\n",
              "      <td>0.0</td>\n",
              "      <td>0.0</td>\n",
              "      <td>0.0</td>\n",
              "      <td>1.0</td>\n",
              "      <td>1.0</td>\n",
              "      <td>1.0</td>\n",
              "      <td>0.0</td>\n",
              "      <td>1.0</td>\n",
              "      <td>0.0</td>\n",
              "      <td>0.0</td>\n",
              "      <td>0.0</td>\n",
              "      <td>1.0</td>\n",
              "      <td>1.0</td>\n",
              "    </tr>\n",
              "    <tr>\n",
              "      <th>23</th>\n",
              "      <td>democrat</td>\n",
              "      <td>1.0</td>\n",
              "      <td>1.0</td>\n",
              "      <td>1.0</td>\n",
              "      <td>0.0</td>\n",
              "      <td>0.0</td>\n",
              "      <td>0.0</td>\n",
              "      <td>1.0</td>\n",
              "      <td>1.0</td>\n",
              "      <td>1.0</td>\n",
              "      <td>0.0</td>\n",
              "      <td>0.0</td>\n",
              "      <td>0.0</td>\n",
              "      <td>0.0</td>\n",
              "      <td>0.0</td>\n",
              "      <td>1.0</td>\n",
              "      <td>1.0</td>\n",
              "    </tr>\n",
              "    <tr>\n",
              "      <th>25</th>\n",
              "      <td>democrat</td>\n",
              "      <td>1.0</td>\n",
              "      <td>0.0</td>\n",
              "      <td>1.0</td>\n",
              "      <td>0.0</td>\n",
              "      <td>0.0</td>\n",
              "      <td>0.0</td>\n",
              "      <td>1.0</td>\n",
              "      <td>1.0</td>\n",
              "      <td>1.0</td>\n",
              "      <td>1.0</td>\n",
              "      <td>0.0</td>\n",
              "      <td>0.0</td>\n",
              "      <td>0.0</td>\n",
              "      <td>0.0</td>\n",
              "      <td>1.0</td>\n",
              "      <td>1.0</td>\n",
              "    </tr>\n",
              "  </tbody>\n",
              "</table>\n",
              "</div>"
            ],
            "text/plain": [
              "         party  handicapped-infants  ...  duty-free  south-africa\n",
              "5     democrat                  0.0  ...        1.0           1.0\n",
              "8   republican                  0.0  ...        0.0           1.0\n",
              "19    democrat                  1.0  ...        1.0           1.0\n",
              "23    democrat                  1.0  ...        1.0           1.0\n",
              "25    democrat                  1.0  ...        1.0           1.0\n",
              "\n",
              "[5 rows x 17 columns]"
            ]
          },
          "metadata": {
            "tags": []
          },
          "execution_count": 75
        }
      ]
    },
    {
      "cell_type": "code",
      "metadata": {
        "id": "9OpzL7HqHmJe",
        "colab_type": "code",
        "colab": {
          "base_uri": "https://localhost:8080/",
          "height": 473
        },
        "outputId": "faa1f3f7-6e66-444a-c172-941c32cd5203"
      },
      "source": [
        "sample5 = df.sample(100, random_state=42)\n",
        "sample5"
      ],
      "execution_count": 82,
      "outputs": [
        {
          "output_type": "execute_result",
          "data": {
            "text/html": [
              "<div>\n",
              "<style scoped>\n",
              "    .dataframe tbody tr th:only-of-type {\n",
              "        vertical-align: middle;\n",
              "    }\n",
              "\n",
              "    .dataframe tbody tr th {\n",
              "        vertical-align: top;\n",
              "    }\n",
              "\n",
              "    .dataframe thead th {\n",
              "        text-align: right;\n",
              "    }\n",
              "</style>\n",
              "<table border=\"1\" class=\"dataframe\">\n",
              "  <thead>\n",
              "    <tr style=\"text-align: right;\">\n",
              "      <th></th>\n",
              "      <th>party</th>\n",
              "      <th>handicapped-infants</th>\n",
              "      <th>water-project</th>\n",
              "      <th>budget</th>\n",
              "      <th>physician-fee-freeze</th>\n",
              "      <th>el-salvador-aid</th>\n",
              "      <th>religious-groups</th>\n",
              "      <th>anti-satellite-ban</th>\n",
              "      <th>aid-to-contras</th>\n",
              "      <th>mx-missile</th>\n",
              "      <th>immigration</th>\n",
              "      <th>synfuels</th>\n",
              "      <th>education</th>\n",
              "      <th>right-to-sue</th>\n",
              "      <th>crime</th>\n",
              "      <th>duty-free</th>\n",
              "      <th>south-africa</th>\n",
              "    </tr>\n",
              "  </thead>\n",
              "  <tbody>\n",
              "    <tr>\n",
              "      <th>414</th>\n",
              "      <td>democrat</td>\n",
              "      <td>1.0</td>\n",
              "      <td>1.0</td>\n",
              "      <td>1.0</td>\n",
              "      <td>0.0</td>\n",
              "      <td>0.0</td>\n",
              "      <td>0.0</td>\n",
              "      <td>1.0</td>\n",
              "      <td>1.0</td>\n",
              "      <td>1.0</td>\n",
              "      <td>0.0</td>\n",
              "      <td>0.0</td>\n",
              "      <td>0.0</td>\n",
              "      <td>0.0</td>\n",
              "      <td>0.0</td>\n",
              "      <td>0.0</td>\n",
              "      <td>1.0</td>\n",
              "    </tr>\n",
              "    <tr>\n",
              "      <th>138</th>\n",
              "      <td>democrat</td>\n",
              "      <td>0.0</td>\n",
              "      <td>0.0</td>\n",
              "      <td>1.0</td>\n",
              "      <td>0.0</td>\n",
              "      <td>0.0</td>\n",
              "      <td>1.0</td>\n",
              "      <td>1.0</td>\n",
              "      <td>1.0</td>\n",
              "      <td>1.0</td>\n",
              "      <td>1.0</td>\n",
              "      <td>0.0</td>\n",
              "      <td>0.0</td>\n",
              "      <td>0.0</td>\n",
              "      <td>1.0</td>\n",
              "      <td>0.0</td>\n",
              "      <td>1.0</td>\n",
              "    </tr>\n",
              "    <tr>\n",
              "      <th>30</th>\n",
              "      <td>republican</td>\n",
              "      <td>0.0</td>\n",
              "      <td>1.0</td>\n",
              "      <td>0.0</td>\n",
              "      <td>1.0</td>\n",
              "      <td>1.0</td>\n",
              "      <td>1.0</td>\n",
              "      <td>0.0</td>\n",
              "      <td>0.0</td>\n",
              "      <td>0.0</td>\n",
              "      <td>0.0</td>\n",
              "      <td>0.0</td>\n",
              "      <td>1.0</td>\n",
              "      <td>1.0</td>\n",
              "      <td>1.0</td>\n",
              "      <td>0.0</td>\n",
              "      <td>0.0</td>\n",
              "    </tr>\n",
              "    <tr>\n",
              "      <th>324</th>\n",
              "      <td>republican</td>\n",
              "      <td>0.0</td>\n",
              "      <td>1.0</td>\n",
              "      <td>0.0</td>\n",
              "      <td>1.0</td>\n",
              "      <td>1.0</td>\n",
              "      <td>1.0</td>\n",
              "      <td>0.0</td>\n",
              "      <td>0.0</td>\n",
              "      <td>0.0</td>\n",
              "      <td>0.0</td>\n",
              "      <td>1.0</td>\n",
              "      <td>1.0</td>\n",
              "      <td>1.0</td>\n",
              "      <td>1.0</td>\n",
              "      <td>0.0</td>\n",
              "      <td>0.0</td>\n",
              "    </tr>\n",
              "    <tr>\n",
              "      <th>38</th>\n",
              "      <td>republican</td>\n",
              "      <td>0.0</td>\n",
              "      <td>1.0</td>\n",
              "      <td>0.0</td>\n",
              "      <td>1.0</td>\n",
              "      <td>1.0</td>\n",
              "      <td>1.0</td>\n",
              "      <td>0.0</td>\n",
              "      <td>0.0</td>\n",
              "      <td>0.0</td>\n",
              "      <td>1.0</td>\n",
              "      <td>0.0</td>\n",
              "      <td>1.0</td>\n",
              "      <td>1.0</td>\n",
              "      <td>1.0</td>\n",
              "      <td>0.0</td>\n",
              "      <td>0.0</td>\n",
              "    </tr>\n",
              "    <tr>\n",
              "      <th>...</th>\n",
              "      <td>...</td>\n",
              "      <td>...</td>\n",
              "      <td>...</td>\n",
              "      <td>...</td>\n",
              "      <td>...</td>\n",
              "      <td>...</td>\n",
              "      <td>...</td>\n",
              "      <td>...</td>\n",
              "      <td>...</td>\n",
              "      <td>...</td>\n",
              "      <td>...</td>\n",
              "      <td>...</td>\n",
              "      <td>...</td>\n",
              "      <td>...</td>\n",
              "      <td>...</td>\n",
              "      <td>...</td>\n",
              "      <td>...</td>\n",
              "    </tr>\n",
              "    <tr>\n",
              "      <th>58</th>\n",
              "      <td>republican</td>\n",
              "      <td>0.0</td>\n",
              "      <td>1.0</td>\n",
              "      <td>0.0</td>\n",
              "      <td>1.0</td>\n",
              "      <td>1.0</td>\n",
              "      <td>1.0</td>\n",
              "      <td>0.0</td>\n",
              "      <td>0.0</td>\n",
              "      <td>0.0</td>\n",
              "      <td>1.0</td>\n",
              "      <td>0.0</td>\n",
              "      <td>1.0</td>\n",
              "      <td>1.0</td>\n",
              "      <td>1.0</td>\n",
              "      <td>0.0</td>\n",
              "      <td>1.0</td>\n",
              "    </tr>\n",
              "    <tr>\n",
              "      <th>406</th>\n",
              "      <td>democrat</td>\n",
              "      <td>1.0</td>\n",
              "      <td>0.0</td>\n",
              "      <td>1.0</td>\n",
              "      <td>0.0</td>\n",
              "      <td>1.0</td>\n",
              "      <td>1.0</td>\n",
              "      <td>0.0</td>\n",
              "      <td>0.0</td>\n",
              "      <td>1.0</td>\n",
              "      <td>1.0</td>\n",
              "      <td>0.0</td>\n",
              "      <td>0.0</td>\n",
              "      <td>1.0</td>\n",
              "      <td>1.0</td>\n",
              "      <td>0.0</td>\n",
              "      <td>1.0</td>\n",
              "    </tr>\n",
              "    <tr>\n",
              "      <th>327</th>\n",
              "      <td>republican</td>\n",
              "      <td>0.0</td>\n",
              "      <td>1.0</td>\n",
              "      <td>0.0</td>\n",
              "      <td>1.0</td>\n",
              "      <td>1.0</td>\n",
              "      <td>1.0</td>\n",
              "      <td>0.0</td>\n",
              "      <td>0.0</td>\n",
              "      <td>0.0</td>\n",
              "      <td>0.0</td>\n",
              "      <td>0.0</td>\n",
              "      <td>1.0</td>\n",
              "      <td>1.0</td>\n",
              "      <td>1.0</td>\n",
              "      <td>0.0</td>\n",
              "      <td>1.0</td>\n",
              "    </tr>\n",
              "    <tr>\n",
              "      <th>306</th>\n",
              "      <td>republican</td>\n",
              "      <td>0.0</td>\n",
              "      <td>0.0</td>\n",
              "      <td>0.0</td>\n",
              "      <td>1.0</td>\n",
              "      <td>1.0</td>\n",
              "      <td>1.0</td>\n",
              "      <td>0.0</td>\n",
              "      <td>0.0</td>\n",
              "      <td>0.0</td>\n",
              "      <td>0.0</td>\n",
              "      <td>0.0</td>\n",
              "      <td>1.0</td>\n",
              "      <td>1.0</td>\n",
              "      <td>1.0</td>\n",
              "      <td>0.0</td>\n",
              "      <td>0.0</td>\n",
              "    </tr>\n",
              "    <tr>\n",
              "      <th>5</th>\n",
              "      <td>democrat</td>\n",
              "      <td>0.0</td>\n",
              "      <td>1.0</td>\n",
              "      <td>1.0</td>\n",
              "      <td>0.0</td>\n",
              "      <td>1.0</td>\n",
              "      <td>1.0</td>\n",
              "      <td>0.0</td>\n",
              "      <td>0.0</td>\n",
              "      <td>0.0</td>\n",
              "      <td>0.0</td>\n",
              "      <td>0.0</td>\n",
              "      <td>0.0</td>\n",
              "      <td>1.0</td>\n",
              "      <td>1.0</td>\n",
              "      <td>1.0</td>\n",
              "      <td>1.0</td>\n",
              "    </tr>\n",
              "  </tbody>\n",
              "</table>\n",
              "<p>100 rows × 17 columns</p>\n",
              "</div>"
            ],
            "text/plain": [
              "          party  handicapped-infants  ...  duty-free  south-africa\n",
              "414    democrat                  1.0  ...        0.0           1.0\n",
              "138    democrat                  0.0  ...        0.0           1.0\n",
              "30   republican                  0.0  ...        0.0           0.0\n",
              "324  republican                  0.0  ...        0.0           0.0\n",
              "38   republican                  0.0  ...        0.0           0.0\n",
              "..          ...                  ...  ...        ...           ...\n",
              "58   republican                  0.0  ...        0.0           1.0\n",
              "406    democrat                  1.0  ...        0.0           1.0\n",
              "327  republican                  0.0  ...        0.0           1.0\n",
              "306  republican                  0.0  ...        0.0           0.0\n",
              "5      democrat                  0.0  ...        1.0           1.0\n",
              "\n",
              "[100 rows x 17 columns]"
            ]
          },
          "metadata": {
            "tags": []
          },
          "execution_count": 82
        }
      ]
    },
    {
      "cell_type": "code",
      "metadata": {
        "id": "FXjEGRHdIwMI",
        "colab_type": "code",
        "colab": {
          "base_uri": "https://localhost:8080/",
          "height": 351
        },
        "outputId": "250ddb1d-6dff-4d6c-8d8b-b2ba31e9df42"
      },
      "source": [
        "df.describe()"
      ],
      "execution_count": 78,
      "outputs": [
        {
          "output_type": "execute_result",
          "data": {
            "text/html": [
              "<div>\n",
              "<style scoped>\n",
              "    .dataframe tbody tr th:only-of-type {\n",
              "        vertical-align: middle;\n",
              "    }\n",
              "\n",
              "    .dataframe tbody tr th {\n",
              "        vertical-align: top;\n",
              "    }\n",
              "\n",
              "    .dataframe thead th {\n",
              "        text-align: right;\n",
              "    }\n",
              "</style>\n",
              "<table border=\"1\" class=\"dataframe\">\n",
              "  <thead>\n",
              "    <tr style=\"text-align: right;\">\n",
              "      <th></th>\n",
              "      <th>handicapped-infants</th>\n",
              "      <th>water-project</th>\n",
              "      <th>budget</th>\n",
              "      <th>physician-fee-freeze</th>\n",
              "      <th>el-salvador-aid</th>\n",
              "      <th>religious-groups</th>\n",
              "      <th>anti-satellite-ban</th>\n",
              "      <th>aid-to-contras</th>\n",
              "      <th>mx-missile</th>\n",
              "      <th>immigration</th>\n",
              "      <th>synfuels</th>\n",
              "      <th>education</th>\n",
              "      <th>right-to-sue</th>\n",
              "      <th>crime</th>\n",
              "      <th>duty-free</th>\n",
              "      <th>south-africa</th>\n",
              "    </tr>\n",
              "  </thead>\n",
              "  <tbody>\n",
              "    <tr>\n",
              "      <th>count</th>\n",
              "      <td>232.000000</td>\n",
              "      <td>232.000000</td>\n",
              "      <td>232.000000</td>\n",
              "      <td>232.000000</td>\n",
              "      <td>232.000000</td>\n",
              "      <td>232.000000</td>\n",
              "      <td>232.000000</td>\n",
              "      <td>232.000000</td>\n",
              "      <td>232.000000</td>\n",
              "      <td>232.000000</td>\n",
              "      <td>232.000000</td>\n",
              "      <td>232.000000</td>\n",
              "      <td>232.000000</td>\n",
              "      <td>232.000000</td>\n",
              "      <td>232.000000</td>\n",
              "      <td>232.000000</td>\n",
              "    </tr>\n",
              "    <tr>\n",
              "      <th>mean</th>\n",
              "      <td>0.413793</td>\n",
              "      <td>0.461207</td>\n",
              "      <td>0.530172</td>\n",
              "      <td>0.487069</td>\n",
              "      <td>0.551724</td>\n",
              "      <td>0.642241</td>\n",
              "      <td>0.534483</td>\n",
              "      <td>0.512931</td>\n",
              "      <td>0.487069</td>\n",
              "      <td>0.551724</td>\n",
              "      <td>0.344828</td>\n",
              "      <td>0.465517</td>\n",
              "      <td>0.547414</td>\n",
              "      <td>0.642241</td>\n",
              "      <td>0.370690</td>\n",
              "      <td>0.814655</td>\n",
              "    </tr>\n",
              "    <tr>\n",
              "      <th>std</th>\n",
              "      <td>0.493577</td>\n",
              "      <td>0.499571</td>\n",
              "      <td>0.500168</td>\n",
              "      <td>0.500913</td>\n",
              "      <td>0.498393</td>\n",
              "      <td>0.480377</td>\n",
              "      <td>0.499888</td>\n",
              "      <td>0.500913</td>\n",
              "      <td>0.500913</td>\n",
              "      <td>0.498393</td>\n",
              "      <td>0.476340</td>\n",
              "      <td>0.499888</td>\n",
              "      <td>0.498823</td>\n",
              "      <td>0.480377</td>\n",
              "      <td>0.484034</td>\n",
              "      <td>0.389417</td>\n",
              "    </tr>\n",
              "    <tr>\n",
              "      <th>min</th>\n",
              "      <td>0.000000</td>\n",
              "      <td>0.000000</td>\n",
              "      <td>0.000000</td>\n",
              "      <td>0.000000</td>\n",
              "      <td>0.000000</td>\n",
              "      <td>0.000000</td>\n",
              "      <td>0.000000</td>\n",
              "      <td>0.000000</td>\n",
              "      <td>0.000000</td>\n",
              "      <td>0.000000</td>\n",
              "      <td>0.000000</td>\n",
              "      <td>0.000000</td>\n",
              "      <td>0.000000</td>\n",
              "      <td>0.000000</td>\n",
              "      <td>0.000000</td>\n",
              "      <td>0.000000</td>\n",
              "    </tr>\n",
              "    <tr>\n",
              "      <th>25%</th>\n",
              "      <td>0.000000</td>\n",
              "      <td>0.000000</td>\n",
              "      <td>0.000000</td>\n",
              "      <td>0.000000</td>\n",
              "      <td>0.000000</td>\n",
              "      <td>0.000000</td>\n",
              "      <td>0.000000</td>\n",
              "      <td>0.000000</td>\n",
              "      <td>0.000000</td>\n",
              "      <td>0.000000</td>\n",
              "      <td>0.000000</td>\n",
              "      <td>0.000000</td>\n",
              "      <td>0.000000</td>\n",
              "      <td>0.000000</td>\n",
              "      <td>0.000000</td>\n",
              "      <td>1.000000</td>\n",
              "    </tr>\n",
              "    <tr>\n",
              "      <th>50%</th>\n",
              "      <td>0.000000</td>\n",
              "      <td>0.000000</td>\n",
              "      <td>1.000000</td>\n",
              "      <td>0.000000</td>\n",
              "      <td>1.000000</td>\n",
              "      <td>1.000000</td>\n",
              "      <td>1.000000</td>\n",
              "      <td>1.000000</td>\n",
              "      <td>0.000000</td>\n",
              "      <td>1.000000</td>\n",
              "      <td>0.000000</td>\n",
              "      <td>0.000000</td>\n",
              "      <td>1.000000</td>\n",
              "      <td>1.000000</td>\n",
              "      <td>0.000000</td>\n",
              "      <td>1.000000</td>\n",
              "    </tr>\n",
              "    <tr>\n",
              "      <th>75%</th>\n",
              "      <td>1.000000</td>\n",
              "      <td>1.000000</td>\n",
              "      <td>1.000000</td>\n",
              "      <td>1.000000</td>\n",
              "      <td>1.000000</td>\n",
              "      <td>1.000000</td>\n",
              "      <td>1.000000</td>\n",
              "      <td>1.000000</td>\n",
              "      <td>1.000000</td>\n",
              "      <td>1.000000</td>\n",
              "      <td>1.000000</td>\n",
              "      <td>1.000000</td>\n",
              "      <td>1.000000</td>\n",
              "      <td>1.000000</td>\n",
              "      <td>1.000000</td>\n",
              "      <td>1.000000</td>\n",
              "    </tr>\n",
              "    <tr>\n",
              "      <th>max</th>\n",
              "      <td>1.000000</td>\n",
              "      <td>1.000000</td>\n",
              "      <td>1.000000</td>\n",
              "      <td>1.000000</td>\n",
              "      <td>1.000000</td>\n",
              "      <td>1.000000</td>\n",
              "      <td>1.000000</td>\n",
              "      <td>1.000000</td>\n",
              "      <td>1.000000</td>\n",
              "      <td>1.000000</td>\n",
              "      <td>1.000000</td>\n",
              "      <td>1.000000</td>\n",
              "      <td>1.000000</td>\n",
              "      <td>1.000000</td>\n",
              "      <td>1.000000</td>\n",
              "      <td>1.000000</td>\n",
              "    </tr>\n",
              "  </tbody>\n",
              "</table>\n",
              "</div>"
            ],
            "text/plain": [
              "       handicapped-infants  water-project  ...   duty-free  south-africa\n",
              "count           232.000000     232.000000  ...  232.000000    232.000000\n",
              "mean              0.413793       0.461207  ...    0.370690      0.814655\n",
              "std               0.493577       0.499571  ...    0.484034      0.389417\n",
              "min               0.000000       0.000000  ...    0.000000      0.000000\n",
              "25%               0.000000       0.000000  ...    0.000000      1.000000\n",
              "50%               0.000000       0.000000  ...    0.000000      1.000000\n",
              "75%               1.000000       1.000000  ...    1.000000      1.000000\n",
              "max               1.000000       1.000000  ...    1.000000      1.000000\n",
              "\n",
              "[8 rows x 16 columns]"
            ]
          },
          "metadata": {
            "tags": []
          },
          "execution_count": 78
        }
      ]
    },
    {
      "cell_type": "code",
      "metadata": {
        "id": "YioEJlH9Qc9d",
        "colab_type": "code",
        "colab": {}
      },
      "source": [
        "rep = df[df['party'] == 'republican']"
      ],
      "execution_count": 0,
      "outputs": []
    },
    {
      "cell_type": "code",
      "metadata": {
        "id": "sIv7tsifOVdR",
        "colab_type": "code",
        "colab": {
          "base_uri": "https://localhost:8080/",
          "height": 34
        },
        "outputId": "bb30ec48-8a2c-40c1-a747-44760f86a004"
      },
      "source": [
        "confidence_interval(rep['budget'])"
      ],
      "execution_count": 84,
      "outputs": [
        {
          "output_type": "execute_result",
          "data": {
            "text/plain": [
              "(0.08761355698812177, 0.1574074074074074, 0.22720125782669304)"
            ]
          },
          "metadata": {
            "tags": []
          },
          "execution_count": 84
        }
      ]
    },
    {
      "cell_type": "code",
      "metadata": {
        "id": "5qLDvZl1POg6",
        "colab_type": "code",
        "colab": {
          "base_uri": "https://localhost:8080/",
          "height": 34
        },
        "outputId": "f24247cb-6c90-4d25-a7ff-4d97c5c27d6d"
      },
      "source": [
        "confidence_interval(rep['handicapped-infants'])"
      ],
      "execution_count": 85,
      "outputs": [
        {
          "output_type": "execute_result",
          "data": {
            "text/plain": [
              "(0.13450349074958223, 0.21296296296296297, 0.2914224351763437)"
            ]
          },
          "metadata": {
            "tags": []
          },
          "execution_count": 85
        }
      ]
    },
    {
      "cell_type": "code",
      "metadata": {
        "id": "6_jwfJYQPTHz",
        "colab_type": "code",
        "colab": {
          "base_uri": "https://localhost:8080/",
          "height": 34
        },
        "outputId": "c1b1d02a-52d3-49e8-d82c-b934402b0f48"
      },
      "source": [
        "confidence_interval(rep['water-project'])"
      ],
      "execution_count": 86,
      "outputs": [
        {
          "output_type": "execute_result",
          "data": {
            "text/plain": [
              "(0.3765480931771919, 0.4722222222222222, 0.5678963512672525)"
            ]
          },
          "metadata": {
            "tags": []
          },
          "execution_count": 86
        }
      ]
    },
    {
      "cell_type": "code",
      "metadata": {
        "id": "tJFJHO1uPXpu",
        "colab_type": "code",
        "colab": {
          "base_uri": "https://localhost:8080/",
          "height": 34
        },
        "outputId": "e3a9b293-b180-4e29-b373-3cc6cbc93496"
      },
      "source": [
        "confidence_interval(rep['physician-fee-freeze'])"
      ],
      "execution_count": 87,
      "outputs": [
        {
          "output_type": "execute_result",
          "data": {
            "text/plain": [
              "(0.9723853391655276, 0.9907407407407407, 1.009096142315954)"
            ]
          },
          "metadata": {
            "tags": []
          },
          "execution_count": 87
        }
      ]
    },
    {
      "cell_type": "code",
      "metadata": {
        "id": "KqQItD_DPX3O",
        "colab_type": "code",
        "colab": {
          "base_uri": "https://localhost:8080/",
          "height": 34
        },
        "outputId": "7d4d8db3-49d7-40ac-c4ea-5f9caa0b0569"
      },
      "source": [
        "confidence_interval(rep['el-salvador-aid'])"
      ],
      "execution_count": 88,
      "outputs": [
        {
          "output_type": "execute_result",
          "data": {
            "text/plain": [
              "(0.913434261310743, 0.9537037037037037, 0.9939731460966644)"
            ]
          },
          "metadata": {
            "tags": []
          },
          "execution_count": 88
        }
      ]
    },
    {
      "cell_type": "code",
      "metadata": {
        "id": "7_KpEwqKPX_Z",
        "colab_type": "code",
        "colab": {
          "base_uri": "https://localhost:8080/",
          "height": 34
        },
        "outputId": "c089bf6d-d3c0-4a89-a263-7169ce5e465a"
      },
      "source": [
        "confidence_interval(rep['religious-groups'])"
      ],
      "execution_count": 91,
      "outputs": [
        {
          "output_type": "execute_result",
          "data": {
            "text/plain": [
              "(0.8059979340740583, 0.8703703703703703, 0.9347428066666824)"
            ]
          },
          "metadata": {
            "tags": []
          },
          "execution_count": 91
        }
      ]
    },
    {
      "cell_type": "code",
      "metadata": {
        "id": "Blsocj6nPYHx",
        "colab_type": "code",
        "colab": {
          "base_uri": "https://localhost:8080/",
          "height": 34
        },
        "outputId": "53f96562-d37f-4a20-97d2-d205187e936b"
      },
      "source": [
        "confidence_interval(rep['anti-satellite-ban'])"
      ],
      "execution_count": 92,
      "outputs": [
        {
          "output_type": "execute_result",
          "data": {
            "text/plain": [
              "(0.18358393802160433, 0.26851851851851855, 0.35345309901543276)"
            ]
          },
          "metadata": {
            "tags": []
          },
          "execution_count": 92
        }
      ]
    },
    {
      "cell_type": "code",
      "metadata": {
        "id": "nq22f7XrPYPg",
        "colab_type": "code",
        "colab": {
          "base_uri": "https://localhost:8080/",
          "height": 34
        },
        "outputId": "526610cf-9024-4643-ff84-e1f1df3691c6"
      },
      "source": [
        "confidence_interval(rep['aid-to-contras'])"
      ],
      "execution_count": 93,
      "outputs": [
        {
          "output_type": "execute_result",
          "data": {
            "text/plain": [
              "(0.08006715123831286, 0.14814814814814814, 0.2162291450579834)"
            ]
          },
          "metadata": {
            "tags": []
          },
          "execution_count": 93
        }
      ]
    },
    {
      "cell_type": "code",
      "metadata": {
        "id": "a-RsJHowPYXc",
        "colab_type": "code",
        "colab": {
          "base_uri": "https://localhost:8080/",
          "height": 34
        },
        "outputId": "98294a43-6856-47f0-a7e5-86438667717a"
      },
      "source": [
        "confidence_interval(rep['mx-missile'])"
      ],
      "execution_count": 94,
      "outputs": [
        {
          "output_type": "execute_result",
          "data": {
            "text/plain": [
              "(0.07261245914426012, 0.1388888888888889, 0.20516531863351767)"
            ]
          },
          "metadata": {
            "tags": []
          },
          "execution_count": 94
        }
      ]
    },
    {
      "cell_type": "code",
      "metadata": {
        "id": "RtU4RK4APYff",
        "colab_type": "code",
        "colab": {
          "base_uri": "https://localhost:8080/",
          "height": 34
        },
        "outputId": "deaaf0d0-c4ed-4583-ef08-aeb31157c089"
      },
      "source": [
        "confidence_interval(rep['immigration'])"
      ],
      "execution_count": 95,
      "outputs": [
        {
          "output_type": "execute_result",
          "data": {
            "text/plain": [
              "(0.4793093369789436, 0.5740740740740741, 0.6688388111692045)"
            ]
          },
          "metadata": {
            "tags": []
          },
          "execution_count": 95
        }
      ]
    },
    {
      "cell_type": "code",
      "metadata": {
        "id": "SCMWIJBcPYnD",
        "colab_type": "code",
        "colab": {
          "base_uri": "https://localhost:8080/",
          "height": 34
        },
        "outputId": "df593464-e541-4cb7-8e62-029eadeacb24"
      },
      "source": [
        "confidence_interval(rep['synfuels'])"
      ],
      "execution_count": 96,
      "outputs": [
        {
          "output_type": "execute_result",
          "data": {
            "text/plain": [
              "(0.08761355698812177, 0.1574074074074074, 0.22720125782669304)"
            ]
          },
          "metadata": {
            "tags": []
          },
          "execution_count": 96
        }
      ]
    },
    {
      "cell_type": "code",
      "metadata": {
        "id": "N4jIZ0rLPYvM",
        "colab_type": "code",
        "colab": {
          "base_uri": "https://localhost:8080/",
          "height": 34
        },
        "outputId": "7f20ef7b-f4a5-4a89-f725-09593264ea16"
      },
      "source": [
        "confidence_interval(rep['education'])"
      ],
      "execution_count": 98,
      "outputs": [
        {
          "output_type": "execute_result",
          "data": {
            "text/plain": [
              "(0.7837708549420166, 0.8518518518518519, 0.9199328487616871)"
            ]
          },
          "metadata": {
            "tags": []
          },
          "execution_count": 98
        }
      ]
    },
    {
      "cell_type": "code",
      "metadata": {
        "id": "1w7EgomkPY2R",
        "colab_type": "code",
        "colab": {
          "base_uri": "https://localhost:8080/",
          "height": 34
        },
        "outputId": "e63a6967-cf84-43fc-9e92-da40cf0572bf"
      },
      "source": [
        "confidence_interval(rep['right-to-sue'])"
      ],
      "execution_count": 99,
      "outputs": [
        {
          "output_type": "execute_result",
          "data": {
            "text/plain": [
              "(0.7727987421733069, 0.8425925925925926, 0.9123864430118782)"
            ]
          },
          "metadata": {
            "tags": []
          },
          "execution_count": 99
        }
      ]
    },
    {
      "cell_type": "code",
      "metadata": {
        "id": "vdFd1T3APY9-",
        "colab_type": "code",
        "colab": {
          "base_uri": "https://localhost:8080/",
          "height": 34
        },
        "outputId": "01805025-4793-4131-d6d6-e4124e17d458"
      },
      "source": [
        "confidence_interval(rep['crime'])"
      ],
      "execution_count": 100,
      "outputs": [
        {
          "output_type": "execute_result",
          "data": {
            "text/plain": [
              "(0.955644609582101, 0.9814814814814815, 1.007318353380862)"
            ]
          },
          "metadata": {
            "tags": []
          },
          "execution_count": 100
        }
      ]
    },
    {
      "cell_type": "code",
      "metadata": {
        "id": "akYzaDHPQHPE",
        "colab_type": "code",
        "colab": {
          "base_uri": "https://localhost:8080/",
          "height": 34
        },
        "outputId": "a5c13b2c-a90e-44d1-fe85-7dfda885fa1a"
      },
      "source": [
        "confidence_interval(rep['duty-free'])"
      ],
      "execution_count": 101,
      "outputs": [
        {
          "output_type": "execute_result",
          "data": {
            "text/plain": [
              "(0.050883138942941386, 0.1111111111111111, 0.17133908327928082)"
            ]
          },
          "metadata": {
            "tags": []
          },
          "execution_count": 101
        }
      ]
    },
    {
      "cell_type": "code",
      "metadata": {
        "id": "q7HN4wC-QHY-",
        "colab_type": "code",
        "colab": {
          "base_uri": "https://localhost:8080/",
          "height": 34
        },
        "outputId": "b87abf2f-28b3-4879-af37-0bc0ce13575d"
      },
      "source": [
        "confidence_interval(rep['south-africa'])"
      ],
      "execution_count": 102,
      "outputs": [
        {
          "output_type": "execute_result",
          "data": {
            "text/plain": [
              "(0.5763247084144121, 0.6666666666666666, 0.7570086249189212)"
            ]
          },
          "metadata": {
            "tags": []
          },
          "execution_count": 102
        }
      ]
    },
    {
      "cell_type": "code",
      "metadata": {
        "id": "fjY22TU-QHim",
        "colab_type": "code",
        "colab": {
          "base_uri": "https://localhost:8080/",
          "height": 281
        },
        "outputId": "7d40c7f3-9bac-4421-e997-9bcbfd1b7d45"
      },
      "source": [
        "rep.hist()\n",
        "plt.show()"
      ],
      "execution_count": 106,
      "outputs": [
        {
          "output_type": "display_data",
          "data": {
            "image/png": "[encoded data removed]",
            "text/plain": [
              "<Figure size 432x288 with 16 Axes>"
            ]
          },
          "metadata": {
            "tags": [],
            "needs_background": "light"
          }
        }
      ]
    }
  ]
}