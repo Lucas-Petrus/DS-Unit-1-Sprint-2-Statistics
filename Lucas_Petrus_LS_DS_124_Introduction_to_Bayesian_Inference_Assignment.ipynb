{
  "nbformat": 4,
  "nbformat_minor": 0,
  "metadata": {
    "colab": {
      "name": "Lucas_Petrus_LS_DS_124_Introduction_to_Bayesian_Inference_Assignment.ipynb",
      "provenance": [],
      "collapsed_sections": [],
      "include_colab_link": true
    },
    "kernelspec": {
      "name": "python3",
      "display_name": "Python 3"
    }
  },
  "cells": [
    {
      "cell_type": "markdown",
      "metadata": {
        "id": "view-in-github",
        "colab_type": "text"
      },
      "source": [
        "<a href=\"https://colab.research.google.com/github/Lucas-Petrus/DS-Unit-1-Sprint-2-Statistics/blob/master/Lucas_Petrus_LS_DS_124_Introduction_to_Bayesian_Inference_Assignment.ipynb\" target=\"_parent\"><img src=\"https://colab.research.google.com/assets/colab-badge.svg\" alt=\"Open In Colab\"/></a>"
      ]
    },
    {
      "cell_type": "markdown",
      "metadata": {
        "id": "H7OLbevlbd_Z",
        "colab_type": "text"
      },
      "source": [
        "# Lambda School Data Science Module 124\n",
        "\n",
        "## Introduction to Bayesian Inference\n",
        "\n",
        "\n"
      ]
    },
    {
      "cell_type": "markdown",
      "metadata": {
        "id": "P-DzzRk5bf0z",
        "colab_type": "text"
      },
      "source": [
        "## Assignment - Code it up!\n",
        "\n",
        "We used pure math to apply Bayes Theorem to drug tests. Now write Python code to reproduce the results! This is purposefully open ended - you'll have to think about how you should represent probabilities and events. You can and should look things up.\n",
        "\n",
        "Specific goals/targets:\n",
        "\n",
        "### 1) Write a function \n",
        "\n",
        "`def prob_drunk_given_positive(prob_drunk_prior, false_positive_rate, true_positive_rate):` \n",
        "\n",
        "You should only truly need these three values in order to apply Bayes Theorem. In this example, imagine that individuals are taking a breathalyzer test with an 8% false positive rate, a 100% true positive rate, and that our prior belief about drunk driving in the population is 1/1000. \n",
        " - What is the probability that a person is drunk after one positive breathalyzer test?\n",
        " - What is the probability that a person is drunk after two positive breathalyzer tests?\n",
        " - How many positive breathalyzer tests are needed in order to have a probability that's greater than 95% that a person is drunk beyond the legal limit?\n"
      ]
    },
    {
      "cell_type": "code",
      "metadata": {
        "id": "xpVhZyUnbf7o",
        "colab_type": "code",
        "outputId": "c8070b2d-13ef-4ece-d9df-f6c88464d446",
        "colab": {
          "base_uri": "https://localhost:8080/",
          "height": 34
        }
      },
      "source": [
        "true_pos_rate = 1\n",
        "\n",
        "pop_prior_belief = 1/1000\n",
        "\n",
        "pop_false_pos_rate = .08\n",
        "\n",
        "comp_prior = 1 - pop_prior_belief\n",
        "\n",
        "\n",
        "numerator = true_pos_rate*pop_prior_belief\n",
        "\n",
        "denominator = true_pos_rate*pop_prior_belief + pop_false_pos_rate\n",
        "\n",
        "\n",
        "posterior_probability = numerator / denominator\n",
        "\n",
        "posterior_probability"
      ],
      "execution_count": 0,
      "outputs": [
        {
          "output_type": "execute_result",
          "data": {
            "text/plain": [
              "0.012345679012345678"
            ]
          },
          "metadata": {
            "tags": []
          },
          "execution_count": 14
        }
      ]
    },
    {
      "cell_type": "code",
      "metadata": {
        "id": "oYfxSV0u-q8C",
        "colab_type": "code",
        "outputId": "4e1ad2e7-e69c-44d9-ea50-7239266d3b67",
        "colab": {
          "base_uri": "https://localhost:8080/",
          "height": 34
        }
      },
      "source": [
        "pop_prior_belief = posterior_probability\n",
        "\n",
        "comp_prior = 1 - pop_prior_belief\n",
        "\n",
        "numerator = true_pos_rate*pop_prior_belief\n",
        "\n",
        "denominator = true_pos_rate*pop_prior_belief + pop_false_pos_rate\n",
        "\n",
        "posterior_probability = numerator / denominator\n",
        "\n",
        "posterior_probability"
      ],
      "execution_count": 0,
      "outputs": [
        {
          "output_type": "execute_result",
          "data": {
            "text/plain": [
              "0.1336898395721925"
            ]
          },
          "metadata": {
            "tags": []
          },
          "execution_count": 15
        }
      ]
    },
    {
      "cell_type": "code",
      "metadata": {
        "id": "RzL4scu2-7-r",
        "colab_type": "code",
        "outputId": "0f48a866-a685-4fda-b1c3-9a5edc1611bb",
        "colab": {
          "base_uri": "https://localhost:8080/",
          "height": 34
        }
      },
      "source": [
        "pop_prior_belief = posterior_probability\n",
        "\n",
        "comp_prior = 1 - pop_prior_belief\n",
        "\n",
        "numerator = true_pos_rate*pop_prior_belief\n",
        "\n",
        "denominator = true_pos_rate*pop_prior_belief + pop_false_pos_rate\n",
        "\n",
        "posterior_probability = numerator / denominator\n",
        "\n",
        "posterior_probability"
      ],
      "execution_count": 0,
      "outputs": [
        {
          "output_type": "execute_result",
          "data": {
            "text/plain": [
              "0.6256256256256255"
            ]
          },
          "metadata": {
            "tags": []
          },
          "execution_count": 16
        }
      ]
    },
    {
      "cell_type": "code",
      "metadata": {
        "id": "4cNMseR5-99I",
        "colab_type": "code",
        "outputId": "aa613a50-7154-4f77-9943-7d0b4ee07373",
        "colab": {
          "base_uri": "https://localhost:8080/",
          "height": 34
        }
      },
      "source": [
        "pop_prior_belief = posterior_probability\n",
        "\n",
        "comp_prior = 1 - pop_prior_belief\n",
        "\n",
        "numerator = true_pos_rate*pop_prior_belief\n",
        "\n",
        "denominator = true_pos_rate*pop_prior_belief + pop_false_pos_rate\n",
        "\n",
        "posterior_probability = numerator / denominator\n",
        "\n",
        "posterior_probability"
      ],
      "execution_count": 0,
      "outputs": [
        {
          "output_type": "execute_result",
          "data": {
            "text/plain": [
              "0.8866254326732111"
            ]
          },
          "metadata": {
            "tags": []
          },
          "execution_count": 17
        }
      ]
    },
    {
      "cell_type": "code",
      "metadata": {
        "id": "Cjrvzlzb-_XI",
        "colab_type": "code",
        "outputId": "47871021-d455-4082-abae-315817fd3899",
        "colab": {
          "base_uri": "https://localhost:8080/",
          "height": 34
        }
      },
      "source": [
        "pop_prior_belief = posterior_probability\n",
        "\n",
        "comp_prior = 1 - pop_prior_belief\n",
        "\n",
        "numerator = true_pos_rate*pop_prior_belief\n",
        "\n",
        "denominator = true_pos_rate*pop_prior_belief + pop_false_pos_rate\n",
        "\n",
        "posterior_probability = numerator / denominator\n",
        "\n",
        "posterior_probability"
      ],
      "execution_count": 0,
      "outputs": [
        {
          "output_type": "execute_result",
          "data": {
            "text/plain": [
              "0.9172378490200085"
            ]
          },
          "metadata": {
            "tags": []
          },
          "execution_count": 18
        }
      ]
    },
    {
      "cell_type": "code",
      "metadata": {
        "id": "_ZIig5GW_A34",
        "colab_type": "code",
        "outputId": "10a5ca45-0717-46c8-f1a2-0f622dc5e58a",
        "colab": {
          "base_uri": "https://localhost:8080/",
          "height": 34
        }
      },
      "source": [
        "pop_prior_belief = posterior_probability\n",
        "\n",
        "comp_prior = 1 - pop_prior_belief\n",
        "\n",
        "numerator = true_pos_rate*pop_prior_belief\n",
        "\n",
        "denominator = true_pos_rate*pop_prior_belief + pop_false_pos_rate\n",
        "\n",
        "posterior_probability = numerator / denominator\n",
        "\n",
        "posterior_probability"
      ],
      "execution_count": 0,
      "outputs": [
        {
          "output_type": "execute_result",
          "data": {
            "text/plain": [
              "0.9197784158727866"
            ]
          },
          "metadata": {
            "tags": []
          },
          "execution_count": 19
        }
      ]
    },
    {
      "cell_type": "code",
      "metadata": {
        "id": "cCuud9wk_C4c",
        "colab_type": "code",
        "outputId": "3bfc338c-6f12-42a7-b813-b49d2cfbddb9",
        "colab": {
          "base_uri": "https://localhost:8080/",
          "height": 34
        }
      },
      "source": [
        "pop_prior_belief = posterior_probability\n",
        "\n",
        "comp_prior = 1 - pop_prior_belief\n",
        "\n",
        "numerator = true_pos_rate*pop_prior_belief\n",
        "\n",
        "denominator = true_pos_rate*pop_prior_belief + pop_false_pos_rate\n",
        "\n",
        "posterior_probability = numerator / denominator\n",
        "\n",
        "posterior_probability"
      ],
      "execution_count": 0,
      "outputs": [
        {
          "output_type": "execute_result",
          "data": {
            "text/plain": [
              "0.9199822693409904"
            ]
          },
          "metadata": {
            "tags": []
          },
          "execution_count": 20
        }
      ]
    },
    {
      "cell_type": "code",
      "metadata": {
        "id": "727KijOH_JFu",
        "colab_type": "code",
        "outputId": "a3c4e42c-0b60-4127-98e2-42729cd3d648",
        "colab": {
          "base_uri": "https://localhost:8080/",
          "height": 34
        }
      },
      "source": [
        "pop_prior_belief = posterior_probability\n",
        "\n",
        "comp_prior = 1 - pop_prior_belief\n",
        "\n",
        "numerator = true_pos_rate*pop_prior_belief\n",
        "\n",
        "denominator = true_pos_rate*pop_prior_belief + pop_false_pos_rate\n",
        "\n",
        "posterior_probability = numerator / denominator\n",
        "\n",
        "posterior_probability"
      ],
      "execution_count": 0,
      "outputs": [
        {
          "output_type": "execute_result",
          "data": {
            "text/plain": [
              "0.9199985815221288"
            ]
          },
          "metadata": {
            "tags": []
          },
          "execution_count": 21
        }
      ]
    },
    {
      "cell_type": "code",
      "metadata": {
        "id": "wD1MdiUT_L4q",
        "colab_type": "code",
        "outputId": "8725cd4f-3c19-4710-e805-2151eab2f63d",
        "colab": {
          "base_uri": "https://localhost:8080/",
          "height": 34
        }
      },
      "source": [
        "pop_prior_belief = posterior_probability\n",
        "\n",
        "comp_prior = 1 - pop_prior_belief\n",
        "\n",
        "numerator = true_pos_rate*pop_prior_belief\n",
        "\n",
        "denominator = true_pos_rate*pop_prior_belief + pop_false_pos_rate\n",
        "\n",
        "posterior_probability = numerator / denominator\n",
        "\n",
        "posterior_probability"
      ],
      "execution_count": 0,
      "outputs": [
        {
          "output_type": "execute_result",
          "data": {
            "text/plain": [
              "0.9199998865216094"
            ]
          },
          "metadata": {
            "tags": []
          },
          "execution_count": 22
        }
      ]
    },
    {
      "cell_type": "code",
      "metadata": {
        "id": "4XGrriBO_SX_",
        "colab_type": "code",
        "outputId": "bd99a076-1acd-4746-f603-e56e0fd199e0",
        "colab": {
          "base_uri": "https://localhost:8080/",
          "height": 34
        }
      },
      "source": [
        "pop_prior_belief = posterior_probability\n",
        "\n",
        "comp_prior = 1 - pop_prior_belief\n",
        "\n",
        "numerator = true_pos_rate*pop_prior_belief\n",
        "\n",
        "denominator = true_pos_rate*pop_prior_belief + pop_false_pos_rate\n",
        "\n",
        "posterior_probability = numerator / denominator\n",
        "\n",
        "posterior_probability"
      ],
      "execution_count": 0,
      "outputs": [
        {
          "output_type": "execute_result",
          "data": {
            "text/plain": [
              "0.9199999909217278"
            ]
          },
          "metadata": {
            "tags": []
          },
          "execution_count": 23
        }
      ]
    },
    {
      "cell_type": "code",
      "metadata": {
        "id": "TUxomXjn_UFl",
        "colab_type": "code",
        "outputId": "e29d3cc7-1915-468f-dc8a-07d1e247c59a",
        "colab": {
          "base_uri": "https://localhost:8080/",
          "height": 34
        }
      },
      "source": [
        "pop_prior_belief = posterior_probability\n",
        "\n",
        "comp_prior = 1 - pop_prior_belief\n",
        "\n",
        "numerator = true_pos_rate*pop_prior_belief\n",
        "\n",
        "denominator = true_pos_rate*pop_prior_belief + pop_false_pos_rate\n",
        "\n",
        "posterior_probability = numerator / denominator\n",
        "\n",
        "posterior_probability"
      ],
      "execution_count": 0,
      "outputs": [
        {
          "output_type": "execute_result",
          "data": {
            "text/plain": [
              "0.9199999992737382"
            ]
          },
          "metadata": {
            "tags": []
          },
          "execution_count": 24
        }
      ]
    },
    {
      "cell_type": "code",
      "metadata": {
        "id": "tnN01_JA_cND",
        "colab_type": "code",
        "outputId": "87bb25e9-996e-4f57-cbbd-65dd3e35a503",
        "colab": {
          "base_uri": "https://localhost:8080/",
          "height": 34
        }
      },
      "source": [
        "pop_prior_belief = posterior_probability\n",
        "\n",
        "comp_prior = 1 - pop_prior_belief\n",
        "\n",
        "numerator = true_pos_rate*pop_prior_belief\n",
        "\n",
        "denominator = true_pos_rate*pop_prior_belief + pop_false_pos_rate\n",
        "\n",
        "posterior_probability = numerator / denominator\n",
        "\n",
        "posterior_probability"
      ],
      "execution_count": 0,
      "outputs": [
        {
          "output_type": "execute_result",
          "data": {
            "text/plain": [
              "0.9199999999418991"
            ]
          },
          "metadata": {
            "tags": []
          },
          "execution_count": 25
        }
      ]
    },
    {
      "cell_type": "code",
      "metadata": {
        "id": "OJPsTt9ADg4D",
        "colab_type": "code",
        "outputId": "50451357-a81f-4c97-fc1e-6771e0384c5e",
        "colab": {
          "base_uri": "https://localhost:8080/",
          "height": 34
        }
      },
      "source": [
        "pop_prior_belief = posterior_probability\n",
        "\n",
        "comp_prior = 1 - pop_prior_belief\n",
        "\n",
        "numerator = true_pos_rate*pop_prior_belief\n",
        "\n",
        "denominator = true_pos_rate*pop_prior_belief + pop_false_pos_rate\n",
        "\n",
        "posterior_probability = numerator / denominator\n",
        "\n",
        "posterior_probability"
      ],
      "execution_count": 0,
      "outputs": [
        {
          "output_type": "execute_result",
          "data": {
            "text/plain": [
              "0.919999999995352"
            ]
          },
          "metadata": {
            "tags": []
          },
          "execution_count": 26
        }
      ]
    },
    {
      "cell_type": "code",
      "metadata": {
        "id": "GsL3AQt1Dh6Z",
        "colab_type": "code",
        "outputId": "752f33f8-4afc-4276-b434-e90d181cc032",
        "colab": {
          "base_uri": "https://localhost:8080/",
          "height": 34
        }
      },
      "source": [
        "pop_prior_belief = posterior_probability\n",
        "\n",
        "comp_prior = 1 - pop_prior_belief\n",
        "\n",
        "numerator = true_pos_rate*pop_prior_belief\n",
        "\n",
        "denominator = true_pos_rate*pop_prior_belief + pop_false_pos_rate\n",
        "\n",
        "posterior_probability = numerator / denominator\n",
        "\n",
        "posterior_probability"
      ],
      "execution_count": 0,
      "outputs": [
        {
          "output_type": "execute_result",
          "data": {
            "text/plain": [
              "0.9199999999996282"
            ]
          },
          "metadata": {
            "tags": []
          },
          "execution_count": 27
        }
      ]
    },
    {
      "cell_type": "code",
      "metadata": {
        "id": "thvQxVHGDjNA",
        "colab_type": "code",
        "outputId": "dd58bff3-4cae-4b51-8e5c-58c3f74c2006",
        "colab": {
          "base_uri": "https://localhost:8080/",
          "height": 34
        }
      },
      "source": [
        "pop_prior_belief = posterior_probability\n",
        "\n",
        "comp_prior = 1 - pop_prior_belief\n",
        "\n",
        "numerator = true_pos_rate*pop_prior_belief\n",
        "\n",
        "denominator = true_pos_rate*pop_prior_belief + pop_false_pos_rate\n",
        "\n",
        "posterior_probability = numerator / denominator\n",
        "\n",
        "posterior_probability"
      ],
      "execution_count": 0,
      "outputs": [
        {
          "output_type": "execute_result",
          "data": {
            "text/plain": [
              "0.9199999999999703"
            ]
          },
          "metadata": {
            "tags": []
          },
          "execution_count": 28
        }
      ]
    },
    {
      "cell_type": "code",
      "metadata": {
        "id": "jya41PSADk7Z",
        "colab_type": "code",
        "outputId": "e8417a02-f68f-4008-924b-0cffc7bba50e",
        "colab": {
          "base_uri": "https://localhost:8080/",
          "height": 34
        }
      },
      "source": [
        "pop_prior_belief = posterior_probability\n",
        "\n",
        "comp_prior = 1 - pop_prior_belief\n",
        "\n",
        "numerator = true_pos_rate*pop_prior_belief\n",
        "\n",
        "denominator = true_pos_rate*pop_prior_belief + pop_false_pos_rate\n",
        "\n",
        "posterior_probability = numerator / denominator\n",
        "\n",
        "posterior_probability"
      ],
      "execution_count": 0,
      "outputs": [
        {
          "output_type": "execute_result",
          "data": {
            "text/plain": [
              "0.9199999999999977"
            ]
          },
          "metadata": {
            "tags": []
          },
          "execution_count": 29
        }
      ]
    },
    {
      "cell_type": "code",
      "metadata": {
        "id": "JpQnYcthDmJp",
        "colab_type": "code",
        "outputId": "ecd436b2-0779-47ed-8cd2-ecdb8806b9f5",
        "colab": {
          "base_uri": "https://localhost:8080/",
          "height": 34
        }
      },
      "source": [
        "pop_prior_belief = posterior_probability\n",
        "\n",
        "comp_prior = 1 - pop_prior_belief\n",
        "\n",
        "numerator = true_pos_rate*pop_prior_belief\n",
        "\n",
        "denominator = true_pos_rate*pop_prior_belief + pop_false_pos_rate\n",
        "\n",
        "posterior_probability = numerator / denominator\n",
        "\n",
        "posterior_probability"
      ],
      "execution_count": 0,
      "outputs": [
        {
          "output_type": "execute_result",
          "data": {
            "text/plain": [
              "0.9199999999999998"
            ]
          },
          "metadata": {
            "tags": []
          },
          "execution_count": 30
        }
      ]
    },
    {
      "cell_type": "code",
      "metadata": {
        "id": "WBmy9MfVDngW",
        "colab_type": "code",
        "outputId": "b23271a7-bb35-4ff0-92d1-c3ca9d887998",
        "colab": {
          "base_uri": "https://localhost:8080/",
          "height": 34
        }
      },
      "source": [
        "pop_prior_belief = posterior_probability\n",
        "\n",
        "comp_prior = 1 - pop_prior_belief\n",
        "\n",
        "numerator = true_pos_rate*pop_prior_belief\n",
        "\n",
        "denominator = true_pos_rate*pop_prior_belief + pop_false_pos_rate\n",
        "\n",
        "posterior_probability = numerator / denominator\n",
        "\n",
        "posterior_probability"
      ],
      "execution_count": 0,
      "outputs": [
        {
          "output_type": "execute_result",
          "data": {
            "text/plain": [
              "0.92"
            ]
          },
          "metadata": {
            "tags": []
          },
          "execution_count": 31
        }
      ]
    },
    {
      "cell_type": "code",
      "metadata": {
        "id": "JvsG4K6oDomi",
        "colab_type": "code",
        "outputId": "e45710be-074d-4a8f-adb6-615b46e4c7e4",
        "colab": {
          "base_uri": "https://localhost:8080/",
          "height": 34
        }
      },
      "source": [
        "pop_prior_belief = posterior_probability\n",
        "\n",
        "comp_prior = 1 - pop_prior_belief\n",
        "\n",
        "numerator = true_pos_rate*pop_prior_belief\n",
        "\n",
        "denominator = true_pos_rate*pop_prior_belief + pop_false_pos_rate\n",
        "\n",
        "posterior_probability = numerator / denominator\n",
        "\n",
        "posterior_probability"
      ],
      "execution_count": 0,
      "outputs": [
        {
          "output_type": "execute_result",
          "data": {
            "text/plain": [
              "0.92"
            ]
          },
          "metadata": {
            "tags": []
          },
          "execution_count": 32
        }
      ]
    },
    {
      "cell_type": "code",
      "metadata": {
        "id": "2NGJ95pvDqDy",
        "colab_type": "code",
        "outputId": "14c160d0-7606-49d9-abec-85adb3c6eff3",
        "colab": {
          "base_uri": "https://localhost:8080/",
          "height": 34
        }
      },
      "source": [
        "pop_prior_belief = posterior_probability\n",
        "\n",
        "comp_prior = 1 - pop_prior_belief\n",
        "\n",
        "numerator = true_pos_rate*pop_prior_belief\n",
        "\n",
        "denominator = true_pos_rate*pop_prior_belief + pop_false_pos_rate\n",
        "\n",
        "posterior_probability = numerator / denominator\n",
        "\n",
        "posterior_probability"
      ],
      "execution_count": 0,
      "outputs": [
        {
          "output_type": "execute_result",
          "data": {
            "text/plain": [
              "0.92"
            ]
          },
          "metadata": {
            "tags": []
          },
          "execution_count": 33
        }
      ]
    },
    {
      "cell_type": "code",
      "metadata": {
        "id": "-krFEi3zDtFT",
        "colab_type": "code",
        "outputId": "b7e61858-c13c-415b-f420-5b0395a368d1",
        "colab": {
          "base_uri": "https://localhost:8080/",
          "height": 34
        }
      },
      "source": [
        "pop_prior_belief = posterior_probability\n",
        "\n",
        "comp_prior = 1 - pop_prior_belief\n",
        "\n",
        "numerator = true_pos_rate*pop_prior_belief\n",
        "\n",
        "denominator = true_pos_rate*pop_prior_belief + pop_false_pos_rate\n",
        "\n",
        "posterior_probability = numerator / denominator\n",
        "\n",
        "posterior_probability"
      ],
      "execution_count": 0,
      "outputs": [
        {
          "output_type": "execute_result",
          "data": {
            "text/plain": [
              "0.92"
            ]
          },
          "metadata": {
            "tags": []
          },
          "execution_count": 34
        }
      ]
    },
    {
      "cell_type": "code",
      "metadata": {
        "id": "eWiKk-TSDuU-",
        "colab_type": "code",
        "colab": {}
      },
      "source": [
        "###it would take a massive amount of times to reach 95%###"
      ],
      "execution_count": 0,
      "outputs": []
    },
    {
      "cell_type": "markdown",
      "metadata": {
        "id": "nhOAsLjvCSLF",
        "colab_type": "text"
      },
      "source": [
        "### 2) In your own words, summarize the difference between Bayesian and Frequentist statistics\n",
        "\n",
        "If you're unsure where to start, check out [this blog post of Bayes theorem with Python](https://dataconomy.com/2015/02/introduction-to-bayes-theorem-with-python/)."
      ]
    },
    {
      "cell_type": "markdown",
      "metadata": {
        "id": "AADlIVfgDztY",
        "colab_type": "text"
      },
      "source": [
        "The Bayesian is subjective and uses a priori beliefs to define a prior probability distribution on the possible values of the unknown parameters. ... The frequentist see probability as something that has to do with a limiting frequency based on an observed proportion."
      ]
    },
    {
      "cell_type": "markdown",
      "metadata": {
        "id": "AeAGBxWjCTv3",
        "colab_type": "text"
      },
      "source": [
        "### 3) Use the following Template to help come up with ideas for your Build Sprint Project: \n",
        "\n"
      ]
    },
    {
      "cell_type": "markdown",
      "metadata": {
        "id": "YgIaBr__C5Q2",
        "colab_type": "text"
      },
      "source": [
        "---\n",
        "\n",
        "## Idea 1:"
      ]
    },
    {
      "cell_type": "markdown",
      "metadata": {
        "id": "MwR6hTB1CiLR",
        "colab_type": "text"
      },
      "source": [
        "### You\n",
        "What do you care about?\n",
        "\n",
        "What do you know about?\n",
        "\n",
        "What decisions do you face?\n",
        "\n",
        "\n"
      ]
    },
    {
      "cell_type": "markdown",
      "metadata": {
        "id": "d5owPwlSClm2",
        "colab_type": "text"
      },
      "source": [
        "-I care about healthcare and different medical treatments being developed\n",
        "\n",
        "-I know about all of how human pyshiology works and who the major healthcare providers are and also about healthcare policy in america\n",
        "\n",
        "The decisions I face are all related to finance and helping my sister financially with my niece who has cerberal palsy. That is why the medical treatments and healthcare interests me the most\n"
      ]
    },
    {
      "cell_type": "markdown",
      "metadata": {
        "id": "lorLHSkzClzC",
        "colab_type": "text"
      },
      "source": [
        "### Seven templates\n",
        "Training Kit (https://learn.lambdaschool.com/ds/module/recedjanlbpqxic2r) explains the seven templates from Priceonomics.\n",
        "\n",
        "Can you apply the templates to your topics?\n",
        "\n",
        "**Geographic Variation:**\n",
        "\n",
        "**Trend related to the news:**\n",
        "\n",
        "**Who does that?:**\n",
        "\n",
        "**Answering a question people care about:**\n",
        "\n",
        "**Valuable to businesses:**\n",
        "\n",
        "**What's the most popular?:**\n",
        "\n",
        "**Cost/Money rankings:**"
      ]
    },
    {
      "cell_type": "markdown",
      "metadata": {
        "id": "cjxeN9D7Cygt",
        "colab_type": "text"
      },
      "source": [
        "Geographic Variation: Could choose to compare obsesity across northern states vs souther states\n",
        "Trend Related News: Could compare corona virus per city\n",
        "Who does that? CDC probably posts the information to this\n",
        "Answering a question people care about? Which alheimzers treatments have been seen to be effective\n",
        "Valuable to business: Looking up data on focus medications that have assisted in the work place enviroment as well as assited in well being to the consumer\n",
        "Whats the most popular? Anything related to heart disease and cancel\n",
        "Cost/Money Rankings: Unsure exactly of how to apply this to medicine. Unless im comparing pharamactical drug costs for generics vs name brand?"
      ]
    },
    {
      "cell_type": "markdown",
      "metadata": {
        "id": "3OXCCIT6C_p0",
        "colab_type": "text"
      },
      "source": [
        "### Misconceptions\n",
        "\n",
        "What misconceptions do people have about your topic?"
      ]
    },
    {
      "cell_type": "markdown",
      "metadata": {
        "id": "kZAkrgTUDCjF",
        "colab_type": "text"
      },
      "source": [
        "I like the idea of possibly doing the cost of prescription drugs and i think my big misconception is how much they cost with a decent insurance plan versus people that cant afford insurance and how that impacts prices"
      ]
    },
    {
      "cell_type": "markdown",
      "metadata": {
        "id": "3tNrndE9DD3-",
        "colab_type": "text"
      },
      "source": [
        "### Examples\n",
        "\n",
        "What data storytelling example inspires you?\n",
        "\n",
        "Could you do a new hypothesis, for the same question?\n",
        "\n",
        "Could you do a new question, for the same topic?\n",
        "\n",
        "Could you do a new topic, with the same \"style\"?"
      ]
    },
    {
      "cell_type": "markdown",
      "metadata": {
        "id": "-5NsWQy5DKoR",
        "colab_type": "text"
      },
      "source": [
        "-There was a story in the past about how HIV treatments were becoming a real thing and then that all disappeard after some were showing significant results. I am curious as to why that is no longer a thing\n",
        "-I think i could draw several hypothesis steming from HIV treatments\n",
        "-Same as question above\n",
        "-Yes, I could do it with other diseases and their treatment"
      ]
    },
    {
      "cell_type": "markdown",
      "metadata": {
        "id": "9rPtMFB6DN7B",
        "colab_type": "text"
      },
      "source": [
        "###Data\n",
        "\n",
        "Where could you search for data about your topic?"
      ]
    },
    {
      "cell_type": "markdown",
      "metadata": {
        "id": "s9hqjOlhDTDa",
        "colab_type": "text"
      },
      "source": [
        "CDC website or maybe from government related websites. I think there is a lot of data sets out their about medical treatments"
      ]
    },
    {
      "cell_type": "markdown",
      "metadata": {
        "colab_type": "text",
        "id": "ld5MOaFaDVSK"
      },
      "source": [
        "---\n",
        "\n",
        "## Idea 2:"
      ]
    },
    {
      "cell_type": "markdown",
      "metadata": {
        "colab_type": "text",
        "id": "znhTWIlUDVSM"
      },
      "source": [
        "### You\n",
        "What do you care about?\n",
        "-I care about the 'honor' in sports. By that i mean refs not rigging games\n",
        "What do you know about?\n",
        "-tim donouaghy exposed the entire nba trying to say a high amount of the games are rigged by the refs\n",
        "What decisions do you face?\n",
        "-Its a tough decision to try and report this because corporations on the nba have a lot of money to get people to refute these finds\n",
        "\n"
      ]
    },
    {
      "cell_type": "markdown",
      "metadata": {
        "colab_type": "text",
        "id": "3Gln5mYeDVSM"
      },
      "source": [
        ""
      ]
    },
    {
      "cell_type": "markdown",
      "metadata": {
        "colab_type": "text",
        "id": "W-njBredDVSN"
      },
      "source": [
        "### Seven templates\n",
        "Training Kit (https://learn.lambdaschool.com/ds/module/recedjanlbpqxic2r) explains the seven templates from Priceonomics.\n",
        "\n",
        "Can you apply the templates to your topics?\n",
        "\n",
        "**Geographic Variation:**\n",
        "\n",
        "**Trend related to the news:**\n",
        "\n",
        "**Who does that?:**\n",
        "\n",
        "**Answering a question people care about:**\n",
        "\n",
        "**Valuable to businesses:**\n",
        "\n",
        "**What's the most popular?:**\n",
        "\n",
        "**Cost/Money rankings:**"
      ]
    },
    {
      "cell_type": "markdown",
      "metadata": {
        "colab_type": "text",
        "id": "pkOqHHL3DVSN"
      },
      "source": [
        "Geographic: could compare the quality of players by states in large markets versus small markets\n",
        "Trend Related: the tim donoaughy ref rigging scandal\n",
        "Who does that? EightThrityFive i believe has information for these data sets\n",
        "Answering: Are games rigged?\n",
        "Valuable: valuable to any casino or sports information agency \n",
        "Whats the most popular: people really just care about the best players\n",
        "Cost/Money: could compare the cities market to where players chose to go?"
      ]
    },
    {
      "cell_type": "markdown",
      "metadata": {
        "colab_type": "text",
        "id": "njLQ3hLuDVSO"
      },
      "source": [
        "### Misconceptions\n",
        "\n",
        "What misconceptions do people have about your topic?"
      ]
    },
    {
      "cell_type": "markdown",
      "metadata": {
        "colab_type": "text",
        "id": "IzrUvaKeDVSO"
      },
      "source": [
        "Every player wants to be in a big market, refs cant rig games because too many people are watching, better players are in warmer cities"
      ]
    },
    {
      "cell_type": "markdown",
      "metadata": {
        "colab_type": "text",
        "id": "L0X6X5WaDVSP"
      },
      "source": [
        "### Examples\n",
        "\n",
        "What data storytelling example inspires you?\n",
        "The data surronding tim rigging those games and how many fouls were called on a specific team each time\n",
        "Could you do a new hypothesis, for the same question?\n",
        "No this would be a singular hypothesis\n",
        "\n",
        "Could you do a new question, for the same topic?\n",
        "Possibly could pose the question in reverse manner saying games arent rigged\n",
        "\n",
        "Could you do a new topic, with the same \"style\"?\n",
        "Yes"
      ]
    },
    {
      "cell_type": "markdown",
      "metadata": {
        "colab_type": "text",
        "id": "fDdHExa0DVSP"
      },
      "source": [
        ""
      ]
    },
    {
      "cell_type": "markdown",
      "metadata": {
        "colab_type": "text",
        "id": "CxgSpiwYDVSQ"
      },
      "source": [
        "###Data\n",
        "\n",
        "EightThirtyFive and other sports data agencies that are post online"
      ]
    },
    {
      "cell_type": "markdown",
      "metadata": {
        "id": "uWgWjp3PQ3Sq",
        "colab_type": "text"
      },
      "source": [
        "## Resources"
      ]
    },
    {
      "cell_type": "markdown",
      "metadata": {
        "id": "QRgHqmYIQ9qn",
        "colab_type": "text"
      },
      "source": [
        "- [Worked example of Bayes rule calculation](https://en.wikipedia.org/wiki/Bayes'_theorem#Examples) (helpful as it fully breaks out the denominator)\n",
        "- [Source code for mvsdist in scipy](https://github.com/scipy/scipy/blob/90534919e139d2a81c24bf08341734ff41a3db12/scipy/stats/morestats.py#L139)"
      ]
    },
    {
      "cell_type": "markdown",
      "metadata": {
        "id": "GP7Jv1XvwtkX",
        "colab_type": "text"
      },
      "source": [
        "## Stretch Goals:\n",
        "\n",
        "- Go back and study the content from Modules 1 & 2 & 3 to make sure that you're really comfortable with them.\n",
        "- Apply a Bayesian technique to a problem you previously worked (in an assignment or project work) on from a frequentist (standard) perspective\n",
        "- Check out [PyMC3](https://docs.pymc.io/) (note this goes beyond hypothesis tests into modeling) - read the guides and work through some examples\n",
        "- Take PyMC3 further - see if you can build something with it!"
      ]
    }
  ]
}